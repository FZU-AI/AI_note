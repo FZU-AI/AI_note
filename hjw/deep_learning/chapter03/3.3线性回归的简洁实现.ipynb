{
 "cells": [
  {
   "cell_type": "code",
   "execution_count": 1,
   "metadata": {},
   "outputs": [
    {
     "name": "stderr",
     "output_type": "stream",
     "text": [
      "D:\\anaconda3\\lib\\site-packages\\h5py\\__init__.py:36: FutureWarning: Conversion of the second argument of issubdtype from `float` to `np.floating` is deprecated. In future, it will be treated as `np.float64 == np.dtype(float).type`.\n",
      "  from ._conv import register_converters as _register_converters\n"
     ]
    }
   ],
   "source": [
    "#生成数据集\n",
    "from mxnet import autograd, nd\n",
    "num_inputs = 2\n",
    "num_examples = 1000\n",
    "true_w = [2, -3.4]\n",
    "true_b = 4.2\n",
    "features = nd.random.normal(scale=1, shape=(num_examples, num_inputs))\n",
    "labels = true_w[0] * features[:, 0] + true_w[1] * features[:, 1] + true_b\n",
    "labels += nd.random.normal(scale=0.01, shape=labels.shape)"
   ]
  },
  {
   "cell_type": "code",
   "execution_count": 2,
   "metadata": {},
   "outputs": [],
   "source": [
    "# 读取数据集\n",
    "from mxnet.gluon import data as gdata\n",
    "batch_size = 10                     #设置小批量的大小\n",
    "dataset = gdata.ArrayDataset(features, labels)    # 将训练数据的特征和标签组合\n",
    "data_iter = gdata.DataLoader(dataset, batch_size, shuffle=True)    #加载数据集，并打乱数据集"
   ]
  },
  {
   "cell_type": "code",
   "execution_count": 4,
   "metadata": {},
   "outputs": [
    {
     "name": "stdout",
     "output_type": "stream",
     "text": [
      "\n",
      "[[ 0.27629048  0.00236695]\n",
      " [ 0.7700928   0.9163943 ]\n",
      " [ 0.91316134 -1.2948903 ]\n",
      " [ 0.2117059  -0.12287327]\n",
      " [ 0.30383104 -0.80775887]\n",
      " [-0.22538121 -0.15575494]\n",
      " [ 1.9141548  -0.8937245 ]\n",
      " [-1.1158241   0.2747542 ]\n",
      " [-0.6552829  -0.6922099 ]\n",
      " [-1.0718824   0.4818612 ]]\n",
      "<NDArray 10x2 @cpu(0)> \n",
      "[ 4.7376227   2.618693   10.442554    5.0448837   7.541996    4.2736063\n",
      " 11.059692    1.0266986   5.2542806   0.42716137]\n",
      "<NDArray 10 @cpu(0)>\n"
     ]
    }
   ],
   "source": [
    "for X, y in data_iter:\n",
    "print(X, y)\n",
    "break"
   ]
  },
  {
   "cell_type": "code",
   "execution_count": 21,
   "metadata": {},
   "outputs": [],
   "source": [
    "from mxnet.gluon import nn                 #导入神经网络模块\n",
    "net = nn.Sequential()                      #实例化Sequential容器\n",
    "net.add(nn.Dense(1))                       #定义输出层个数为1"
   ]
  },
  {
   "cell_type": "code",
   "execution_count": 22,
   "metadata": {},
   "outputs": [],
   "source": [
    "#初始化模型参数\n",
    "from mxnet import init\n",
    "net.initialize(init.Normal(sigma=0.01))     #随机采样于均值为0、标准差为0.01的正态分布"
   ]
  },
  {
   "cell_type": "code",
   "execution_count": 23,
   "metadata": {},
   "outputs": [],
   "source": [
    "#定义损失函数\n",
    "from mxnet.gluon import loss as gloss\n",
    "loss = gloss.L2Loss() # 平⽅损失⼜称L2范数损失"
   ]
  },
  {
   "cell_type": "code",
   "execution_count": 24,
   "metadata": {},
   "outputs": [],
   "source": [
    "#定义优化算法\n",
    "trainer = gluon.Trainer(net.collect_params(), 'sgd', {'learning_rate': 0.03})   #实例化训练器"
   ]
  },
  {
   "cell_type": "code",
   "execution_count": 27,
   "metadata": {},
   "outputs": [
    {
     "name": "stdout",
     "output_type": "stream",
     "text": [
      "epoch 1, loss: 0.000049\n",
      "epoch 2, loss: 0.000048\n",
      "epoch 3, loss: 0.000049\n"
     ]
    }
   ],
   "source": [
    "#训练模型\n",
    "num_epochs = 3                        #设置迭代周期为3次\n",
    "for epoch in range(1, num_epochs + 1):\n",
    "    for X, y in data_iter:\n",
    "        with autograd.record():       #自动求梯度\n",
    "            l = loss(net(X), y)       #求单个数据的预测值\n",
    "        l.backward()                  #反向计算小批量的随机梯度\n",
    "        trainer.step(batch_size)       #更新参数\n",
    "    l = loss(net(features), labels)    #损失函数的平均值\n",
    "    print('epoch %d, loss: %f' % (epoch, l.mean().asnumpy()))"
   ]
  },
  {
   "cell_type": "code",
   "execution_count": null,
   "metadata": {},
   "outputs": [],
   "source": []
  }
 ],
 "metadata": {
  "kernelspec": {
   "display_name": "Python 3",
   "language": "python",
   "name": "python3"
  },
  "language_info": {
   "codemirror_mode": {
    "name": "ipython",
    "version": 3
   },
   "file_extension": ".py",
   "mimetype": "text/x-python",
   "name": "python",
   "nbconvert_exporter": "python",
   "pygments_lexer": "ipython3",
   "version": "3.6.4"
  }
 },
 "nbformat": 4,
 "nbformat_minor": 4
}
