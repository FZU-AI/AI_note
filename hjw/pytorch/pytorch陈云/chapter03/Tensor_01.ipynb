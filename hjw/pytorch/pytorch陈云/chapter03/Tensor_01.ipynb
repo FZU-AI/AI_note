{
 "cells": [
  {
   "cell_type": "code",
   "execution_count": 1,
   "metadata": {},
   "outputs": [
    {
     "data": {
      "text/plain": [
       "'1.5.1'"
      ]
     },
     "execution_count": 1,
     "metadata": {},
     "output_type": "execute_result"
    }
   ],
   "source": [
    "# Let's begin\n",
    "from __future__ import print_function\n",
    "import torch  as t\n",
    "t.__version__"
   ]
  },
  {
   "cell_type": "code",
   "execution_count": 2,
   "metadata": {},
   "outputs": [
    {
     "data": {
      "text/plain": [
       "tensor([[1.6329e+27, 7.7772e-43, 2.8026e-45],\n",
       "        [0.0000e+00, 1.6324e+27, 7.7772e-43]])"
      ]
     },
     "execution_count": 2,
     "metadata": {},
     "output_type": "execute_result"
    }
   ],
   "source": [
    "# 指定大小（x行y列）来创建\n",
    "a = t.Tensor(2,3)\n",
    "a # 数值取决于内存空间的状态，print时候可能overflow"
   ]
  },
  {
   "cell_type": "code",
   "execution_count": 4,
   "metadata": {},
   "outputs": [
    {
     "data": {
      "text/plain": [
       "tensor([1., 2., 3.])"
      ]
     },
     "execution_count": 4,
     "metadata": {},
     "output_type": "execute_result"
    }
   ],
   "source": [
    "# 接收一个list来创建\n",
    "a2 = t.Tensor([1,2,3])\n",
    "a2"
   ]
  },
  {
   "cell_type": "code",
   "execution_count": 6,
   "metadata": {},
   "outputs": [
    {
     "data": {
      "text/plain": [
       "[1.0, 2.0, 3.0]"
      ]
     },
     "execution_count": 6,
     "metadata": {},
     "output_type": "execute_result"
    }
   ],
   "source": [
    "# 将tensor转化为list\n",
    "a2.tolist()"
   ]
  },
  {
   "cell_type": "code",
   "execution_count": 13,
   "metadata": {},
   "outputs": [
    {
     "data": {
      "text/plain": [
       "torch.Size([2, 3])"
      ]
     },
     "execution_count": 13,
     "metadata": {},
     "output_type": "execute_result"
    }
   ],
   "source": [
    "# 返回tensor的尺寸大小\n",
    "a_size = a.size()\n",
    "a_size"
   ]
  },
  {
   "cell_type": "code",
   "execution_count": 15,
   "metadata": {},
   "outputs": [
    {
     "data": {
      "text/plain": [
       "torch.Size([2, 3])"
      ]
     },
     "execution_count": 15,
     "metadata": {},
     "output_type": "execute_result"
    }
   ],
   "source": [
    "# 获得tensor的形状，同上等价\n",
    "a.shape"
   ]
  },
  {
   "cell_type": "code",
   "execution_count": 11,
   "metadata": {},
   "outputs": [
    {
     "data": {
      "text/plain": [
       "6"
      ]
     },
     "execution_count": 11,
     "metadata": {},
     "output_type": "execute_result"
    }
   ],
   "source": [
    "# 返回tensor元素总数\n",
    "a.nelement()"
   ]
  },
  {
   "cell_type": "code",
   "execution_count": 12,
   "metadata": {},
   "outputs": [
    {
     "data": {
      "text/plain": [
       "6"
      ]
     },
     "execution_count": 12,
     "metadata": {},
     "output_type": "execute_result"
    }
   ],
   "source": [
    "# 返回tensor元素总数,同上等价\n",
    "a.numel()"
   ]
  },
  {
   "cell_type": "code",
   "execution_count": 17,
   "metadata": {},
   "outputs": [
    {
     "data": {
      "text/plain": [
       "2"
      ]
     },
     "execution_count": 17,
     "metadata": {},
     "output_type": "execute_result"
    }
   ],
   "source": [
    "# 获得tensor的维度\n",
    "a.dim()"
   ]
  },
  {
   "cell_type": "code",
   "execution_count": 34,
   "metadata": {},
   "outputs": [
    {
     "name": "stdout",
     "output_type": "stream",
     "text": [
      "x1: tensor([[1., 1., 1.],\n",
      "        [1., 1., 1.]])\n",
      "x2: tensor([[0., 0., 0.],\n",
      "        [0., 0., 0.]])\n",
      "x3: tensor([[1., 0., 0.],\n",
      "        [0., 1., 0.],\n",
      "        [0., 0., 1.]])\n",
      "x4: tensor([1, 3, 5, 7])\n",
      "x5: tensor([ 0.0000,  2.5000,  5.0000,  7.5000, 10.0000])\n",
      "x6: tensor([2, 0, 5, 3, 1, 4])\n",
      "x7: tensor([ 1.7200,  2.5068,  3.5442,  3.8362,  4.4644,  7.1594,  6.7365,  8.0481,\n",
      "         9.3297, 10.0299])\n"
     ]
    }
   ],
   "source": [
    "# 创建常见的tensor\n",
    "x1 = t.ones(2,3)   # 创建元素全为 1 的张量\n",
    "print(\"x1:\",x1)\n",
    "\n",
    "x2 = t.zeros(2,3)  # 创建元素全为 0 的张量\n",
    "print(\"x2:\",x2)\n",
    "\n",
    "x3 = t.eye(3,3)   # d对角线为 1，其他为 0\n",
    "print(\"x3:\",x3)\n",
    "\n",
    "x4 = t.arange(1,8,2)  # 1到8，步长为2\n",
    "print(\"x4:\",x4)\n",
    "\n",
    "x5 = t.linspace(0,10,5) # 0到10，均匀分成5份\n",
    "print(\"x5:\",x5)\n",
    "\n",
    "x6 = t.randperm(6)   #长度为6的随机排列(即数0-5的随机排列)\n",
    "print(\"x6:\",x6)\n",
    "\n",
    "x7 = t.normal(mean=t.arange(1., 11.), std=t.arange(1, 0, -0.1)) #正态分布，参数为均值和标准差\n",
    "print(\"x7:\",x7)"
   ]
  },
  {
   "cell_type": "code",
   "execution_count": null,
   "metadata": {},
   "outputs": [],
   "source": []
  }
 ],
 "metadata": {
  "kernelspec": {
   "display_name": "pytorch",
   "language": "python",
   "name": "pytorch"
  },
  "language_info": {
   "codemirror_mode": {
    "name": "ipython",
    "version": 3
   },
   "file_extension": ".py",
   "mimetype": "text/x-python",
   "name": "python",
   "nbconvert_exporter": "python",
   "pygments_lexer": "ipython3",
   "version": "3.6.10"
  }
 },
 "nbformat": 4,
 "nbformat_minor": 4
}
