{
 "cells": [
  {
   "cell_type": "code",
   "execution_count": 1,
   "metadata": {},
   "outputs": [],
   "source": [
    "# 首先导入所需的包或模块\n",
    "%matplotlib inline\n",
    "import d2lzh as d2l\n",
    "from mxnet import gluon,init\n",
    "from mxnet.gluon import loss as gloss,nn"
   ]
  },
  {
   "cell_type": "code",
   "execution_count": 2,
   "metadata": {},
   "outputs": [],
   "source": [
    "# 3.7.1 获取和读取数据\n",
    "batch_size =128\n",
    "train_iter,test_iter =d2l.load_data_fashion_mnist(batch_size)"
   ]
  },
  {
   "cell_type": "code",
   "execution_count": 3,
   "metadata": {},
   "outputs": [],
   "source": [
    "# 3.7.2 定义和初始化模型\n",
    "# softmax回归的输出层是⼀个全连接层。因此，我们添加⼀个输出个数为10的全连接层。\n",
    "net = nn.Sequential()\n",
    "net.add(nn.Dense(10))\n",
    "net.initialize(init.Normal(sigma=0.01)) # 初始化模型参数 "
   ]
  },
  {
   "cell_type": "code",
   "execution_count": 4,
   "metadata": {},
   "outputs": [],
   "source": [
    "# 3.7.3  softmax和交叉熵损失函数\n",
    "# 分开定义softmax运算和交叉熵损失函数可能会造成数值不稳定。\n",
    "loss =gloss.SoftmaxCrossEntropyLoss()"
   ]
  },
  {
   "cell_type": "code",
   "execution_count": 5,
   "metadata": {},
   "outputs": [],
   "source": [
    "# 3.7.4 定义优化算法\n",
    "# 使⽤学习率为0.1的小批量随机梯度下降作为优化算法。\n",
    "trainer =gluon.Trainer(net.collect_params(),'sgd',{'learning_rate':0.1})"
   ]
  },
  {
   "cell_type": "code",
   "execution_count": 6,
   "metadata": {},
   "outputs": [
    {
     "name": "stdout",
     "output_type": "stream",
     "text": [
      "epoch 1, loss 0.6913, train acc 0.772, test acc 0.817\n",
      "epoch 2, loss 0.5238, train acc 0.823, test acc 0.828\n",
      "epoch 3, loss 0.4905, train acc 0.833, test acc 0.844\n",
      "epoch 4, loss 0.4713, train acc 0.839, test acc 0.845\n",
      "epoch 5, loss 0.4601, train acc 0.842, test acc 0.840\n"
     ]
    }
   ],
   "source": [
    "# 3.7.5 训练模型\n",
    "num_epochs=5\n",
    "d2l.train_ch3(net,train_iter,test_iter,loss,num_epochs,batch_size,None,None,trainer)"
   ]
  }
 ],
 "metadata": {
  "kernelspec": {
   "display_name": "Python 3",
   "language": "python",
   "name": "python3"
  },
  "language_info": {
   "codemirror_mode": {
    "name": "ipython",
    "version": 3
   },
   "file_extension": ".py",
   "mimetype": "text/x-python",
   "name": "python",
   "nbconvert_exporter": "python",
   "pygments_lexer": "ipython3",
   "version": "3.6.10"
  }
 },
 "nbformat": 4,
 "nbformat_minor": 4
}
