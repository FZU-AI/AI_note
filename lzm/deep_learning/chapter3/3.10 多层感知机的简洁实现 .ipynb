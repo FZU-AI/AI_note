{
 "cells": [
  {
   "cell_type": "code",
   "execution_count": 1,
   "metadata": {},
   "outputs": [],
   "source": [
    "import d2lzh as d2l\n",
    "from mxnet import gluon,init\n",
    "from mxnet.gluon import loss as gloss,nn\n",
    "import time"
   ]
  },
  {
   "cell_type": "code",
   "execution_count": 2,
   "metadata": {},
   "outputs": [],
   "source": [
    "# 3.10.1 定义模型\n",
    "net=nn.Sequential()\n",
    "# 隐藏层单元个数为256， 并使⽤ReLU函数作为激活函数。\n",
    "net.add(nn.Dense(256,activation='tanh'),\n",
    "        nn.Dense(10))\n",
    "net.initialize(init.Normal(sigma=0.01))"
   ]
  },
  {
   "cell_type": "code",
   "execution_count": 3,
   "metadata": {},
   "outputs": [
    {
     "name": "stdout",
     "output_type": "stream",
     "text": [
      "epoch 1, loss 0.7753, train acc 0.714, test acc 0.828\n",
      "epoch 2, loss 0.5181, train acc 0.810, test acc 0.845\n",
      "epoch 3, loss 0.4640, train acc 0.830, test acc 0.849\n",
      "epoch 4, loss 0.4358, train acc 0.841, test acc 0.852\n",
      "epoch 5, loss 0.4074, train acc 0.851, test acc 0.853\n"
     ]
    },
    {
     "data": {
      "text/plain": [
       "36.659870862960815"
      ]
     },
     "execution_count": 3,
     "metadata": {},
     "output_type": "execute_result"
    }
   ],
   "source": [
    "# 3.10.2 读取数据并训练模型 \n",
    "batch_size =256\n",
    "train_iter,test_iter=d2l.load_data_fashion_mnist(batch_size)\n",
    "\n",
    "loss=gloss.SoftmaxCrossEntropyLoss()\n",
    "trainer=gluon.Trainer(net.collect_params(),'sgd',{'learning_rate':0.5})\n",
    "num_epochs=5\n",
    "start=time.time()\n",
    "d2l.train_ch3(net,train_iter,test_iter,loss,num_epochs,batch_size,None,None,trainer)\n",
    "time=time.time()-start\n",
    "time"
   ]
  }
 ],
 "metadata": {
  "kernelspec": {
   "display_name": "Python 3",
   "language": "python",
   "name": "python3"
  },
  "language_info": {
   "codemirror_mode": {
    "name": "ipython",
    "version": 3
   },
   "file_extension": ".py",
   "mimetype": "text/x-python",
   "name": "python",
   "nbconvert_exporter": "python",
   "pygments_lexer": "ipython3",
   "version": "3.6.10"
  }
 },
 "nbformat": 4,
 "nbformat_minor": 4
}
