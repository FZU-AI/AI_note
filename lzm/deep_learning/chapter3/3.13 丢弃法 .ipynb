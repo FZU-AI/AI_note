{
 "cells": [
  {
   "cell_type": "code",
   "execution_count": 1,
   "metadata": {},
   "outputs": [],
   "source": [
    "# 3.13.2 从零开始实现\n",
    "import d2lzh as d2l\n",
    "from mxnet import autograd,gluon,init,nd\n",
    "from mxnet.gluon import loss as gloss,nn\n",
    "# dropout函数将以drop_prob的概率丢弃NDArray输⼊X中的元素。\n",
    "def dropout(X,drop_prob):\n",
    "    assert 0<=drop_prob<=1\n",
    "    keep_prob=1-drop_prob\n",
    "    # drop_prob=0时X中的全部元素都被丢弃 \n",
    "    if keep_prob ==0:\n",
    "        return X.zeros_like()\n",
    "    # uniform(0,1)为[0, 1)的均匀分布,mask中的元素为0或者1，0代表丢弃，1代表除以1-p拉伸\n",
    "    mask =nd.random.uniform(0,1,X.shape)<keep_prob\n",
    "    return mask*X/keep_prob"
   ]
  },
  {
   "cell_type": "code",
   "execution_count": 2,
   "metadata": {},
   "outputs": [
    {
     "data": {
      "text/plain": [
       "\n",
       "[[ 0.  1.  2.  3.  4.  5.  6.  7.]\n",
       " [ 8.  9. 10. 11. 12. 13. 14. 15.]]\n",
       "<NDArray 2x8 @cpu(0)>"
      ]
     },
     "execution_count": 2,
     "metadata": {},
     "output_type": "execute_result"
    }
   ],
   "source": [
    "X=nd.arange(16).reshape((2,8))\n",
    "dropout(X,0)"
   ]
  },
  {
   "cell_type": "code",
   "execution_count": 3,
   "metadata": {},
   "outputs": [
    {
     "data": {
      "text/plain": [
       "\n",
       "[[ 0.  2.  4.  6.  0.  0.  0. 14.]\n",
       " [ 0. 18.  0.  0. 24. 26. 28.  0.]]\n",
       "<NDArray 2x8 @cpu(0)>"
      ]
     },
     "execution_count": 3,
     "metadata": {},
     "output_type": "execute_result"
    }
   ],
   "source": [
    "dropout(X,0.5)"
   ]
  },
  {
   "cell_type": "code",
   "execution_count": 4,
   "metadata": {},
   "outputs": [
    {
     "data": {
      "text/plain": [
       "\n",
       "[[0. 0. 0. 0. 0. 0. 0. 0.]\n",
       " [0. 0. 0. 0. 0. 0. 0. 0.]]\n",
       "<NDArray 2x8 @cpu(0)>"
      ]
     },
     "execution_count": 4,
     "metadata": {},
     "output_type": "execute_result"
    }
   ],
   "source": [
    "dropout(X,1)"
   ]
  },
  {
   "cell_type": "code",
   "execution_count": 5,
   "metadata": {},
   "outputs": [],
   "source": [
    "# 定义模型参数 \n",
    "num_inputs,num_outputs,num_hiddens1,num_hiddens2 =784,10,256,256\n",
    "\n",
    "W1=nd.random.normal(scale=0.01,shape=(num_inputs,num_hiddens1))\n",
    "b1=nd.zeros(num_hiddens1)\n",
    "W2=nd.random.normal(scale=0.01,shape=(num_hiddens1,num_hiddens2))\n",
    "b2=nd.zeros(num_hiddens2)\n",
    "W3=nd.random.normal(scale=0.01,shape=(num_hiddens2,num_outputs))\n",
    "b3=nd.zeros(num_outputs)\n",
    "\n",
    "params =[W1,b1,W2,b2,W3,b3]\n",
    "for param in params:\n",
    "    param.attach_grad()"
   ]
  },
  {
   "cell_type": "code",
   "execution_count": 6,
   "metadata": {},
   "outputs": [],
   "source": [
    "# 定义模型 \n",
    "# 通常的建议是把靠近输⼊层的丢弃概率设得小⼀点\n",
    "drop_prob1,drop_prob2=0.2,0.5\n",
    "\n",
    "def net(X):\n",
    "    X=X.reshape((-1,num_inputs))\n",
    "    H1=(nd.dot(X,W1)+b1).relu()\n",
    "    if autograd.is_training(): # 只在训练模型时使⽤丢弃法 \n",
    "        H1=dropout(H1,drop_prob1) # 在第⼀层全连接后添加丢弃层 \n",
    "    H2=(nd.dot(H1,W2)+b2).relu()\n",
    "    if autograd.is_training():\n",
    "        H2=dropout(H2,drop_prob2) # 在第⼆层全连接后添加丢弃层\n",
    "    return nd.dot(H2,W3)+b3"
   ]
  },
  {
   "cell_type": "code",
   "execution_count": 7,
   "metadata": {},
   "outputs": [
    {
     "name": "stdout",
     "output_type": "stream",
     "text": [
      "epoch 1, loss 1.1734, train acc 0.546, test acc 0.763\n",
      "epoch 2, loss 0.5888, train acc 0.783, test acc 0.836\n",
      "epoch 3, loss 0.4973, train acc 0.818, test acc 0.844\n",
      "epoch 4, loss 0.4519, train acc 0.834, test acc 0.861\n",
      "epoch 5, loss 0.4224, train acc 0.846, test acc 0.866\n"
     ]
    }
   ],
   "source": [
    "# 训练和测试模型\n",
    "num_epochs,lr,batch_size=5,0.5,256\n",
    "loss=gloss.SoftmaxCrossEntropyLoss()\n",
    "train_iter,test_iter=d2l.load_data_fashion_mnist(batch_size)\n",
    "d2l.train_ch3(net,train_iter,test_iter,loss,num_epochs,batch_size,params,lr)"
   ]
  },
  {
   "cell_type": "code",
   "execution_count": 8,
   "metadata": {},
   "outputs": [
    {
     "name": "stdout",
     "output_type": "stream",
     "text": [
      "epoch 1, loss 1.2509, train acc 0.519, test acc 0.779\n",
      "epoch 2, loss 0.6051, train acc 0.774, test acc 0.825\n",
      "epoch 3, loss 0.5051, train acc 0.815, test acc 0.845\n",
      "epoch 4, loss 0.4596, train acc 0.832, test acc 0.858\n",
      "epoch 5, loss 0.4312, train acc 0.843, test acc 0.860\n"
     ]
    }
   ],
   "source": [
    "# 3.13.3 简洁实现\n",
    "# 在Gluon中，我们只需要在全连接层后添加Dropout层并指定丢弃概率。\n",
    "# 在训练模型时， Dropout层将以指定的丢弃概率随机丢弃上⼀层的输出元素；\n",
    "# 在测试模型时，Dropout层并不发挥作⽤。 \n",
    "net=nn.Sequential()\n",
    "net.add(nn.Dense(256,activation=\"relu\"),\n",
    "        nn.Dropout(drop_prob1),# 在第⼀个全连接层后添加丢弃层 \n",
    "        nn.Dense(256,activation=\"relu\"),\n",
    "        nn.Dropout(drop_prob2),\n",
    "        nn.Dense(10) )\n",
    "net.initialize(init.Normal(sigma=0.01))\n",
    "# 下⾯训练并测试模型。 \n",
    "trainer=gluon.Trainer(net.collect_params(),'sgd',{'learning_rate':lr})\n",
    "d2l.train_ch3(net,train_iter,test_iter,loss,num_epochs,batch_size,None,None,trainer)"
   ]
  },
  {
   "cell_type": "code",
   "execution_count": 9,
   "metadata": {
    "scrolled": true
   },
   "outputs": [
    {
     "name": "stdout",
     "output_type": "stream",
     "text": [
      "epoch 1, loss 1.1987, train acc 0.528, test acc 0.752\n",
      "epoch 2, loss 0.6036, train acc 0.774, test acc 0.830\n",
      "epoch 3, loss 0.4828, train acc 0.820, test acc 0.849\n",
      "epoch 4, loss 0.4287, train acc 0.843, test acc 0.854\n",
      "epoch 5, loss 0.4025, train acc 0.850, test acc 0.861\n"
     ]
    }
   ],
   "source": [
    "# 256无dropout\n",
    "net=nn.Sequential()\n",
    "net.add(nn.Dense(256,activation=\"relu\"),\n",
    "        \n",
    "        nn.Dense(256,activation=\"relu\"),\n",
    "      \n",
    "        nn.Dense(10) )\n",
    "net.initialize(init.Normal(sigma=0.01))\n",
    "# 下⾯训练并测试模型。 \n",
    "trainer=gluon.Trainer(net.collect_params(),'sgd',{'learning_rate':lr})\n",
    "d2l.train_ch3(net,train_iter,test_iter,loss,num_epochs,batch_size,None,None,trainer)"
   ]
  },
  {
   "cell_type": "code",
   "execution_count": 10,
   "metadata": {},
   "outputs": [
    {
     "name": "stdout",
     "output_type": "stream",
     "text": [
      "epoch 1, loss 1.0636, train acc 0.594, test acc 0.755\n",
      "epoch 2, loss 0.5502, train acc 0.796, test acc 0.842\n",
      "epoch 3, loss 0.4767, train acc 0.823, test acc 0.858\n",
      "epoch 4, loss 0.4282, train acc 0.840, test acc 0.861\n",
      "epoch 5, loss 0.3999, train acc 0.852, test acc 0.871\n"
     ]
    }
   ],
   "source": [
    "# 512有dropout\n",
    "net=nn.Sequential()\n",
    "net.add(nn.Dense(512,activation=\"relu\"),\n",
    "        nn.Dropout(drop_prob1),# 在第⼀个全连接层后添加丢弃层 \n",
    "        nn.Dense(512,activation=\"relu\"),\n",
    "        nn.Dropout(drop_prob2),\n",
    "        nn.Dense(10) )\n",
    "net.initialize(init.Normal(sigma=0.01))\n",
    "# 下⾯训练并测试模型。 \n",
    "trainer=gluon.Trainer(net.collect_params(),'sgd',{'learning_rate':lr})\n",
    "d2l.train_ch3(net,train_iter,test_iter,loss,num_epochs,batch_size,None,None,trainer)"
   ]
  },
  {
   "cell_type": "code",
   "execution_count": 11,
   "metadata": {},
   "outputs": [
    {
     "name": "stdout",
     "output_type": "stream",
     "text": [
      "epoch 1, loss 1.1030, train acc 0.581, test acc 0.753\n",
      "epoch 2, loss 0.5435, train acc 0.795, test acc 0.835\n",
      "epoch 3, loss 0.4558, train acc 0.831, test acc 0.850\n",
      "epoch 4, loss 0.4334, train acc 0.841, test acc 0.863\n",
      "epoch 5, loss 0.3816, train acc 0.859, test acc 0.863\n"
     ]
    }
   ],
   "source": [
    "# 512无dropout\n",
    "net=nn.Sequential()\n",
    "net.add(nn.Dense(512,activation=\"relu\"),\n",
    "        \n",
    "        nn.Dense(512,activation=\"relu\"),\n",
    "      \n",
    "        nn.Dense(10) )\n",
    "net.initialize(init.Normal(sigma=0.01))\n",
    "# 下⾯训练并测试模型。 \n",
    "trainer=gluon.Trainer(net.collect_params(),'sgd',{'learning_rate':lr})\n",
    "d2l.train_ch3(net,train_iter,test_iter,loss,num_epochs,batch_size,None,None,trainer)"
   ]
  },
  {
   "cell_type": "code",
   "execution_count": 29,
   "metadata": {},
   "outputs": [
    {
     "name": "stdout",
     "output_type": "stream",
     "text": [
      "epoch 1, loss 1.2304, train acc 0.521, test acc 0.758\n",
      "epoch 2, loss 0.6897, train acc 0.744, test acc 0.752\n",
      "epoch 3, loss 0.6202, train acc 0.773, test acc 0.810\n",
      "epoch 4, loss 0.6850, train acc 0.758, test acc 0.812\n",
      "epoch 5, loss 0.5846, train acc 0.789, test acc 0.826\n"
     ]
    }
   ],
   "source": [
    "# 使用权重衰减和dropout\n",
    "wd=0.005\n",
    "net=nn.Sequential()\n",
    "net.add(nn.Dense(256,activation=\"relu\"),\n",
    "        nn.Dropout(drop_prob1),# 在第⼀个全连接层后添加丢弃层 \n",
    "        nn.Dense(256,activation=\"relu\"),\n",
    "        nn.Dropout(drop_prob2),\n",
    "        nn.Dense(10) )\n",
    "net.initialize(init.Normal(sigma=0.01))\n",
    "# 下⾯训练并测试模型。 \n",
    "trainer_w=gluon.Trainer(net.collect_params('.*weight'),'sgd',{'learning_rate':lr,'wd':wd})\n",
    "trainer_b=gluon.Trainer(net.collect_params('.*bias'),'sgd',{'learning_rate':lr})\n",
    "# d2l.train_ch3(net,train_iter,test_iter,loss,num_epochs,batch_size,None,None,trainer)\n",
    "for epoch in range(num_epochs):\n",
    "        train_l_sum, train_acc_sum, n = 0.0, 0.0, 0\n",
    "        for X, y in train_iter:\n",
    "            with autograd.record():\n",
    "                y_hat = net(X)\n",
    "                l = loss(y_hat, y).sum()\n",
    "            l.backward()\n",
    "            trainer_w.step(batch_size)\n",
    "            trainer_b.step(batch_size)\n",
    "            y = y.astype('float32')\n",
    "            train_l_sum += l.asscalar()\n",
    "            train_acc_sum += (y_hat.argmax(axis=1) == y).sum().asscalar()\n",
    "            n += y.size\n",
    "        test_acc = d2l.evaluate_accuracy(test_iter, net)\n",
    "        print('epoch %d, loss %.4f, train acc %.3f, test acc %.3f'\n",
    "              % (epoch + 1, train_l_sum / n, train_acc_sum / n, test_acc))"
   ]
  },
  {
   "cell_type": "code",
   "execution_count": 13,
   "metadata": {
    "collapsed": true
   },
   "outputs": [
    {
     "data": {
      "text/plain": [
       "\n",
       "[[[[0.594398   0.439149   0.00113363 ... 0.273761   0.27252573\n",
       "    0.34036335]\n",
       "   [0.99925375 0.9863009  0.60216784 ... 0.2524284  0.8843359\n",
       "    0.88571775]\n",
       "   [0.25586182 0.39232728 0.90083915 ... 0.7731324  0.6875209\n",
       "    0.6698372 ]\n",
       "   ...\n",
       "   [0.6274647  0.44942456 0.9586854  ... 0.7581768  0.93534374\n",
       "    0.25146893]\n",
       "   [0.84788525 0.651443   0.01042388 ... 0.49793133 0.07201391\n",
       "    0.7817697 ]\n",
       "   [0.7108818  0.5428142  0.44883537 ... 0.6423631  0.3888265\n",
       "    0.13341165]]]\n",
       "\n",
       "\n",
       " [[[0.14736313 0.08054358 0.06622369 ... 0.16392337 0.5063136\n",
       "    0.45165986]\n",
       "   [0.3956871  0.8919537  0.2511476  ... 0.9411405  0.7232552\n",
       "    0.8548682 ]\n",
       "   [0.7233531  0.42067823 0.9748896  ... 0.5872125  0.97198504\n",
       "    0.578409  ]\n",
       "   ...\n",
       "   [0.35847178 0.14997399 0.4684393  ... 0.6692542  0.16101307\n",
       "    0.7498409 ]\n",
       "   [0.85284626 0.09155352 0.99380416 ... 0.92838496 0.9244678\n",
       "    0.26277018]\n",
       "   [0.8921542  0.99566656 0.7558916  ... 0.6583087  0.79715794\n",
       "    0.04568885]]]\n",
       "\n",
       "\n",
       " [[[0.21520002 0.7271118  0.6110321  ... 0.67965627 0.4411014\n",
       "    0.5083833 ]\n",
       "   [0.48153204 0.1092205  0.98939335 ... 0.09915392 0.6159723\n",
       "    0.82068783]\n",
       "   [0.73575807 0.15925905 0.12012449 ... 0.43549228 0.87511027\n",
       "    0.09745153]\n",
       "   ...\n",
       "   [0.1477396  0.24297002 0.9077577  ... 0.19108339 0.46804294\n",
       "    0.41935664]\n",
       "   [0.25552243 0.7070251  0.4597944  ... 0.19532488 0.44239247\n",
       "    0.07402389]\n",
       "   [0.19442472 0.958769   0.938659   ... 0.30570775 0.28657883\n",
       "    0.47139046]]]\n",
       "\n",
       "\n",
       " ...\n",
       "\n",
       "\n",
       " [[[0.6350683  0.61055446 0.80217487 ... 0.40423194 0.34462485\n",
       "    0.13132456]\n",
       "   [0.6420768  0.835451   0.89501214 ... 0.7394728  0.11902054\n",
       "    0.47677112]\n",
       "   [0.8645663  0.5670656  0.03951858 ... 0.2506633  0.35803142\n",
       "    0.8533244 ]\n",
       "   ...\n",
       "   [0.76294756 0.23877273 0.6966834  ... 0.6066874  0.14446953\n",
       "    0.90253896]\n",
       "   [0.74041015 0.14738399 0.9713369  ... 0.3887268  0.15571344\n",
       "    0.8408895 ]\n",
       "   [0.6980791  0.01172945 0.3025542  ... 0.7150469  0.676793\n",
       "    0.0058973 ]]]\n",
       "\n",
       "\n",
       " [[[0.8176268  0.9966831  0.02055288 ... 0.05159549 0.48219857\n",
       "    0.92093563]\n",
       "   [0.01254427 0.33657393 0.44129565 ... 0.86180264 0.92220825\n",
       "    0.36658022]\n",
       "   [0.99733    0.066757   0.40996304 ... 0.73266685 0.14966814\n",
       "    0.23361799]\n",
       "   ...\n",
       "   [0.6239131  0.8125428  0.53132284 ... 0.8317775  0.27551684\n",
       "    0.24837257]\n",
       "   [0.48446247 0.23822565 0.48156694 ... 0.72322965 0.90252167\n",
       "    0.8939443 ]\n",
       "   [0.25131166 0.4768409  0.2671861  ... 0.7390873  0.8898259\n",
       "    0.07907719]]]\n",
       "\n",
       "\n",
       " [[[0.6382767  0.46183968 0.12909293 ... 0.80934435 0.01499605\n",
       "    0.7956304 ]\n",
       "   [0.03628098 0.6935808  0.96914804 ... 0.7928528  0.41867992\n",
       "    0.80393475]\n",
       "   [0.6116804  0.5966457  0.18007231 ... 0.0431091  0.77016944\n",
       "    0.81751114]\n",
       "   ...\n",
       "   [0.80610335 0.16777611 0.42255414 ... 0.7494641  0.47056887\n",
       "    0.29133168]\n",
       "   [0.9445238  0.3073149  0.80794114 ... 0.31656945 0.26863077\n",
       "    0.6365008 ]\n",
       "   [0.14980827 0.8529429  0.99728644 ... 0.30526668 0.9831402\n",
       "    0.4293083 ]]]]\n",
       "<NDArray 96x1x28x28 @cpu(0)>"
      ]
     },
     "execution_count": 13,
     "metadata": {},
     "output_type": "execute_result"
    }
   ],
   "source": [
    " nd.random.uniform(0,1,X.shape)"
   ]
  },
  {
   "cell_type": "code",
   "execution_count": 14,
   "metadata": {},
   "outputs": [],
   "source": [
    "d2l.load_data_fashion_mnist??"
   ]
  },
  {
   "cell_type": "code",
   "execution_count": 30,
   "metadata": {},
   "outputs": [],
   "source": [
    "d2l.train_ch3??\n",
    "net.initialize??"
   ]
  },
  {
   "cell_type": "code",
   "execution_count": 32,
   "metadata": {},
   "outputs": [],
   "source": [
    "import mxnet\n",
    "mxnet.initializer.Uniform??"
   ]
  }
 ],
 "metadata": {
  "kernelspec": {
   "display_name": "Python 3",
   "language": "python",
   "name": "python3"
  },
  "language_info": {
   "codemirror_mode": {
    "name": "ipython",
    "version": 3
   },
   "file_extension": ".py",
   "mimetype": "text/x-python",
   "name": "python",
   "nbconvert_exporter": "python",
   "pygments_lexer": "ipython3",
   "version": "3.6.10"
  }
 },
 "nbformat": 4,
 "nbformat_minor": 4
}
