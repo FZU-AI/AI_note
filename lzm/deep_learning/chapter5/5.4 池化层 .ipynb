{
 "cells": [
  {
   "cell_type": "code",
   "execution_count": 11,
   "metadata": {},
   "outputs": [],
   "source": [
    "# 池化层的前向计算实现在pool2d函数⾥。\n",
    "from mxnet import nd\n",
    "from mxnet.gluon import nn\n",
    "\n",
    "def pool2d(X,pool_size,mode='max'):\n",
    "    p_h,p_w=pool_size\n",
    "    Y=nd.zeros( (X.shape[0]-p_h+1,X.shape[1]-p_w+1) )# 输出数组2x2\n",
    "    for i in range(Y.shape[0]):# 池化窗口按行滚动\n",
    "        for j in range(Y.shape[1]):# 按列滚动\n",
    "            if mode=='max':\n",
    "                Y[i,j]=X[i:i+p_h,j:j+p_w].max()\n",
    "            elif mode=='avg':\n",
    "                Y[i,j]=X[i:i+p_h,j:j+p_w].mean()\n",
    "    return Y"
   ]
  },
  {
   "cell_type": "code",
   "execution_count": 18,
   "metadata": {},
   "outputs": [
    {
     "data": {
      "text/plain": [
       "\n",
       "[[4. 5.]\n",
       " [7. 8.]]\n",
       "<NDArray 2x2 @cpu(0)>"
      ]
     },
     "execution_count": 18,
     "metadata": {},
     "output_type": "execute_result"
    }
   ],
   "source": [
    "X=nd.array([ [0,1,2],[3,4,5],[6,7,8] ])\n",
    "pool2d(X,(2,2))"
   ]
  },
  {
   "cell_type": "code",
   "execution_count": 15,
   "metadata": {},
   "outputs": [
    {
     "data": {
      "text/plain": [
       "\n",
       "[[2. 3.]\n",
       " [5. 6.]]\n",
       "<NDArray 2x2 @cpu(0)>"
      ]
     },
     "execution_count": 15,
     "metadata": {},
     "output_type": "execute_result"
    }
   ],
   "source": [
    "pool2d(X,(2,2),'avg')"
   ]
  },
  {
   "cell_type": "code",
   "execution_count": 25,
   "metadata": {},
   "outputs": [
    {
     "data": {
      "text/plain": [
       "\n",
       "[[[[ 0.  1.  2.  3.]\n",
       "   [ 4.  5.  6.  7.]\n",
       "   [ 8.  9. 10. 11.]\n",
       "   [12. 13. 14. 15.]]]]\n",
       "<NDArray 1x1x4x4 @cpu(0)>"
      ]
     },
     "execution_count": 25,
     "metadata": {},
     "output_type": "execute_result"
    }
   ],
   "source": [
    "# 5.4.2 填充和步幅 \n",
    "# 同卷积层⼀样，池化层也可以在输⼊的⾼和宽两侧的填充并调整窗口的移动步幅来改变输出形状。\n",
    "X=nd.arange(16).reshape((1,1,4,4))# 前两个维度分别是批量和通道\n",
    "X"
   ]
  },
  {
   "cell_type": "code",
   "execution_count": 26,
   "metadata": {},
   "outputs": [
    {
     "data": {
      "text/plain": [
       "\n",
       "[[[[10.]]]]\n",
       "<NDArray 1x1x1x1 @cpu(0)>"
      ]
     },
     "execution_count": 26,
     "metadata": {},
     "output_type": "execute_result"
    }
   ],
   "source": [
    "# 默认情况下，MaxPool2D实例⾥步幅和池化窗口形状相同(3x3)。\n",
    "pool2d=nn.MaxPool2D(3)\n",
    "pool2d(X) # 因为池化层没有模型参数，所以不需要调⽤参数初始化函数"
   ]
  },
  {
   "cell_type": "code",
   "execution_count": 30,
   "metadata": {},
   "outputs": [
    {
     "data": {
      "text/plain": [
       "\n",
       "[[[[ 5.  7.]\n",
       "   [13. 15.]]]]\n",
       "<NDArray 1x1x2x2 @cpu(0)>"
      ]
     },
     "execution_count": 30,
     "metadata": {},
     "output_type": "execute_result"
    }
   ],
   "source": [
    "# ⼿动指定步幅和填充。 \n",
    "pool2d=nn.MaxPool2D(3,padding=1,strides=2)# (n-k+p+s)/s即(4-3+2+2)/2\n",
    "pool2d(X)"
   ]
  },
  {
   "cell_type": "code",
   "execution_count": 35,
   "metadata": {},
   "outputs": [
    {
     "data": {
      "text/plain": [
       "\n",
       "[[[[ 0.  3.]\n",
       "   [ 8. 11.]\n",
       "   [12. 15.]]]]\n",
       "<NDArray 1x1x3x2 @cpu(0)>"
      ]
     },
     "execution_count": 35,
     "metadata": {},
     "output_type": "execute_result"
    }
   ],
   "source": [
    "# 以指定⾮正⽅形的池化窗口，并分别指定⾼和宽上的填充和步幅。 \n",
    "pool2d=nn.MaxPool2D((2,3),padding=(1,2),strides=(2,3))\n",
    "pool2d(X)"
   ]
  },
  {
   "cell_type": "code",
   "execution_count": 64,
   "metadata": {},
   "outputs": [
    {
     "data": {
      "text/plain": [
       "\n",
       "[[[[ 0.  1.  2.  3.]\n",
       "   [ 4.  5.  6.  7.]\n",
       "   [ 8.  9. 10. 11.]\n",
       "   [12. 13. 14. 15.]]\n",
       "\n",
       "  [[ 1.  2.  3.  4.]\n",
       "   [ 5.  6.  7.  8.]\n",
       "   [ 9. 10. 11. 12.]\n",
       "   [13. 14. 15. 16.]]]]\n",
       "<NDArray 1x2x4x4 @cpu(0)>"
      ]
     },
     "execution_count": 64,
     "metadata": {},
     "output_type": "execute_result"
    }
   ],
   "source": [
    "# 5.4.3 多通道 \n",
    "# 在处理多通道输⼊数据时，池化层对每个输⼊通道分别池化，而不是像卷积层那样将各通道的输⼊按通道相加。\n",
    "# 这意味着池化层的输出通道数与输⼊通道数相等。\n",
    "# nd.concat沿着连接轴的输出数组的尺寸将等于输入数组的相应维度(dim)的总和。\n",
    "X=nd.concat(X,X+1,dim=1)# 通道数变为2\n",
    "X"
   ]
  },
  {
   "cell_type": "code",
   "execution_count": 76,
   "metadata": {},
   "outputs": [
    {
     "data": {
      "text/plain": [
       "\n",
       "[[[[ 5.  7.]\n",
       "   [13. 15.]]\n",
       "\n",
       "  [[ 6.  8.]\n",
       "   [14. 16.]]]]\n",
       "<NDArray 1x2x2x2 @cpu(0)>"
      ]
     },
     "execution_count": 76,
     "metadata": {},
     "output_type": "execute_result"
    }
   ],
   "source": [
    "pool2d=nn.MaxPool2D(3,padding=1,strides=2)\n",
    "pool2d(X)# 池化后，输出通道数仍然是2。"
   ]
  },
  {
   "cell_type": "code",
   "execution_count": 32,
   "metadata": {},
   "outputs": [],
   "source": [
    "nn.MaxPool2D??"
   ]
  },
  {
   "cell_type": "code",
   "execution_count": 63,
   "metadata": {},
   "outputs": [],
   "source": [
    "nd.reshape??\n",
    "nn.Conv2D??\n",
    "nd.concat??\n",
    "nd.stack??"
   ]
  }
 ],
 "metadata": {
  "kernelspec": {
   "display_name": "Python 3",
   "language": "python",
   "name": "python3"
  },
  "language_info": {
   "codemirror_mode": {
    "name": "ipython",
    "version": 3
   },
   "file_extension": ".py",
   "mimetype": "text/x-python",
   "name": "python",
   "nbconvert_exporter": "python",
   "pygments_lexer": "ipython3",
   "version": "3.6.10"
  }
 },
 "nbformat": 4,
 "nbformat_minor": 4
}
