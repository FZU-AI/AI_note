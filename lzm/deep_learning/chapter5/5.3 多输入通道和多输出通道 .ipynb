{
 "cells": [
  {
   "cell_type": "code",
   "execution_count": 1,
   "metadata": {},
   "outputs": [],
   "source": [
    "# 5.3.1 多输⼊通道 \n",
    "# 实现含多个输⼊通道的互相关运算。我们只需要对每个通道做互相关运算，然后通 过add_n函数来进⾏累加。 \n",
    "import d2lzh as d2l\n",
    "from mxnet import nd\n",
    "\n",
    "def corr2d_multi_in(X,K):\n",
    "    # ⾸先沿着X和K的第0维（通道维）遍历（for x,k in zip(X,K)得到每个输入通道上的输入数组x,核数组k）。\n",
    "    # d2l.corr2d(x,k)得到每个输入通道上的输出数组\n",
    "    # 然后使⽤*将输出数组列表变成add_n函数的位置参数 （positional argument）来进⾏相加\n",
    "    return nd.add_n(*[d2l.corr2d(x,k) for x,k in zip(X,K)])"
   ]
  },
  {
   "cell_type": "code",
   "execution_count": 2,
   "metadata": {},
   "outputs": [
    {
     "data": {
      "text/plain": [
       "\n",
       "[[ 56.  72.]\n",
       " [104. 120.]]\n",
       "<NDArray 2x2 @cpu(0)>"
      ]
     },
     "execution_count": 2,
     "metadata": {},
     "output_type": "execute_result"
    }
   ],
   "source": [
    "X=nd.array([ [ [0,1,2],[3,4,5],[6,7,8] ],\n",
    "             [ [1,2,3],[4,5,6],[7,8,9] ] ])\n",
    "K=nd.array([ [ [0,1],[2,3] ],\n",
    "             [ [1,2],[3,4] ] ])\n",
    "corr2d_multi_in(X,K)"
   ]
  },
  {
   "cell_type": "code",
   "execution_count": 3,
   "metadata": {},
   "outputs": [],
   "source": [
    "# 5.3.2 多输出通道 \n",
    "# 实现⼀个互相关运算函数来计算多个通道的输出。 \n",
    "def corr2d_multi_in_out(X,K):\n",
    "    # 每个输出通道上的结果由卷积核在该输出通道上的核数组(k)与整个输⼊数组(X)计算而来。 \n",
    "    # for k in K 得到每个输出通道上的核数组k，corr2d_multi_in(X,k)的得到每个输出通道的输出数组的合并在一起\n",
    "    # 通过nd.stack(*)将每个输出通道的输出数组的合并在一起\n",
    "    return nd.stack(*[corr2d_multi_in(X,k) for k in K])"
   ]
  },
  {
   "cell_type": "code",
   "execution_count": 4,
   "metadata": {},
   "outputs": [
    {
     "data": {
      "text/plain": [
       "\n",
       "[[[[1. 2. 3.]]]\n",
       "\n",
       "\n",
       " [[[4. 5. 6.]]]\n",
       "\n",
       "\n",
       " [[[7. 8. 9.]]]]\n",
       "<NDArray 3x1x1x3 @cpu(0)>"
      ]
     },
     "execution_count": 4,
     "metadata": {},
     "output_type": "execute_result"
    }
   ],
   "source": [
    "x=nd.array([1,2,3]).reshape(1,1,3)\n",
    "y=nd.array([4,5,6]).reshape(1,1,3)\n",
    "z=nd.array([7,8,9]).reshape(1,1,3)\n",
    "nd.stack(x,y,z,axis=0)"
   ]
  },
  {
   "cell_type": "code",
   "execution_count": 5,
   "metadata": {},
   "outputs": [
    {
     "data": {
      "text/plain": [
       "(3, 2, 2, 2)"
      ]
     },
     "execution_count": 5,
     "metadata": {},
     "output_type": "execute_result"
    }
   ],
   "source": [
    "K=nd.stack(K,K+1,K+2)\n",
    "K.shape"
   ]
  },
  {
   "cell_type": "code",
   "execution_count": 6,
   "metadata": {},
   "outputs": [
    {
     "data": {
      "text/plain": [
       "\n",
       "[[[ 56.  72.]\n",
       "  [104. 120.]]\n",
       "\n",
       " [[ 76. 100.]\n",
       "  [148. 172.]]\n",
       "\n",
       " [[ 96. 128.]\n",
       "  [192. 224.]]]\n",
       "<NDArray 3x2x2 @cpu(0)>"
      ]
     },
     "execution_count": 6,
     "metadata": {},
     "output_type": "execute_result"
    }
   ],
   "source": [
    "corr2d_multi_in_out(X,K)"
   ]
  },
  {
   "cell_type": "code",
   "execution_count": 7,
   "metadata": {},
   "outputs": [],
   "source": [
    "# 5.3.3 1×1卷积层 \n",
    "# 1×1卷积层被当作保持⾼和宽维度形状不变的全连接层使⽤。\n",
    "# 输出中的每个元素来⾃输⼊中在⾼和宽上相同位置的元素在不同通 道之间的按权重累加。\n",
    "def corr2d_multi_in_out_1x1(X,K):\n",
    "    c_i,h,w=X.shape # 输入通道数，高，宽\n",
    "    c_o=K.shape[0] # 输出通道数\n",
    "    X=X.reshape((c_i,h*w)) #一个通道一个h*w的数组\n",
    "    K=K.reshape((c_o,c_i))\n",
    "    Y=nd.dot(K,X) # 全连接层的矩阵乘法 \n",
    "    return Y.reshape((c_o,h,w))"
   ]
  },
  {
   "cell_type": "code",
   "execution_count": 10,
   "metadata": {},
   "outputs": [
    {
     "data": {
      "text/plain": [
       "True"
      ]
     },
     "execution_count": 10,
     "metadata": {},
     "output_type": "execute_result"
    }
   ],
   "source": [
    "X=nd.random.uniform(shape=(3,3,3))\n",
    "K=nd.random.uniform(shape=(2,3,1,1))\n",
    "\n",
    "Y1=corr2d_multi_in_out_1x1(X,K)\n",
    "Y2=corr2d_multi_in_out(X,K)\n",
    "\n",
    "(Y1-Y2).norm().asscalar()<1e-6"
   ]
  },
  {
   "cell_type": "code",
   "execution_count": 8,
   "metadata": {},
   "outputs": [],
   "source": [
    "d2l.corr2d??\n",
    "zip??\n",
    "nd.add_n??\n",
    "nd.stack??"
   ]
  }
 ],
 "metadata": {
  "kernelspec": {
   "display_name": "Python 3",
   "language": "python",
   "name": "python3"
  },
  "language_info": {
   "codemirror_mode": {
    "name": "ipython",
    "version": 3
   },
   "file_extension": ".py",
   "mimetype": "text/x-python",
   "name": "python",
   "nbconvert_exporter": "python",
   "pygments_lexer": "ipython3",
   "version": "3.6.10"
  }
 },
 "nbformat": 4,
 "nbformat_minor": 4
}
