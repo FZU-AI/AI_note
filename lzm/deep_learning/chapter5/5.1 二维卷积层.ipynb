{
 "cells": [
  {
   "cell_type": "code",
   "execution_count": 1,
   "metadata": {},
   "outputs": [],
   "source": [
    "from mxnet import autograd,nd\n",
    "from mxnet.gluon import nn\n",
    "\n",
    "# 本函数已保存在d2l\n",
    "# corr2d使⽤了对单个元素赋值（[i, j]=）的操作因而⽆法⾃动求梯度。\n",
    "def corr2d(X,K):# 输⼊数组X(3x3)与核数组K(2x2)\n",
    "    h,w=K.shape\n",
    "    Y=nd.zeros((X.shape[0]-h+1,X.shape[1]-w+1))# 输出数组Y(2x2)\n",
    "    for i in range(Y.shape[0]):# 卷积窗口按行滚动\n",
    "        for j in range(Y.shape[1]):# 按列滚动\n",
    "            Y[i,j]=(X[i:i+h,j:j+w]*K).sum()\n",
    "    return Y"
   ]
  },
  {
   "cell_type": "code",
   "execution_count": 2,
   "metadata": {},
   "outputs": [
    {
     "data": {
      "text/plain": [
       "\n",
       "[[19. 25.]\n",
       " [37. 43.]]\n",
       "<NDArray 2x2 @cpu(0)>"
      ]
     },
     "execution_count": 2,
     "metadata": {},
     "output_type": "execute_result"
    }
   ],
   "source": [
    "X=nd.array([[0,1,2],[3,4,5],[6,7,8]])\n",
    "K=nd.array([[0,1],[2,3]])\n",
    "corr2d(X,K)"
   ]
  },
  {
   "cell_type": "code",
   "execution_count": 3,
   "metadata": {},
   "outputs": [],
   "source": [
    "# 5.1.2 ⼆维卷积层 \n",
    "# ⼆维卷积层将输⼊和卷积核做互相关运算，并加上⼀个标量偏差来得到输出。卷积层的模型参数包括了卷积核和标量偏差。\n",
    "# 在训练模型的时候，通常我们先对卷积核随机初始化，然后不断迭代卷积核和偏差。\n",
    "class Conv2D(nn.Block):\n",
    "    def __init__(self,kernel_size,**kwargs):\n",
    "        super(Conv2D,self).__init__(**kwargs)\n",
    "        self.weight=self.params.get('weight',shape=kernel_size)# 卷积核\n",
    "        self.bias=self.params.get('bias',shape=(1,))# 偏差\n",
    "        \n",
    "    def forward(self,x):\n",
    "        return corr2d(x,self.weight.data())+self.bias.data()"
   ]
  },
  {
   "cell_type": "code",
   "execution_count": 4,
   "metadata": {},
   "outputs": [
    {
     "data": {
      "text/plain": [
       "\n",
       "[[1. 1. 0. 0. 0. 0. 1. 1.]\n",
       " [1. 1. 0. 0. 0. 0. 1. 1.]\n",
       " [1. 1. 0. 0. 0. 0. 1. 1.]\n",
       " [1. 1. 0. 0. 0. 0. 1. 1.]\n",
       " [1. 1. 0. 0. 0. 0. 1. 1.]\n",
       " [1. 1. 0. 0. 0. 0. 1. 1.]]\n",
       "<NDArray 6x8 @cpu(0)>"
      ]
     },
     "execution_count": 4,
     "metadata": {},
     "output_type": "execute_result"
    }
   ],
   "source": [
    "# 5.1.3 图像中物体边缘检测 \n",
    "# 检测图像中物体的边缘，即找到像素变化的位置。\n",
    "X=nd.ones((6,8))# X代表6x8的图片\n",
    "X[:,2:6]=0\n",
    "X"
   ]
  },
  {
   "cell_type": "code",
   "execution_count": 5,
   "metadata": {},
   "outputs": [],
   "source": [
    "# 当卷积核K与输⼊做互相关运算时，如果横向相邻元素相同，输出为0；否则输出为⾮0。 \n",
    "K=nd.array([[1,-1]])# K.shape为(1,2)\n",
    "K1=nd.array([1,-1])#  K1,shape为(2,)"
   ]
  },
  {
   "cell_type": "code",
   "execution_count": 6,
   "metadata": {},
   "outputs": [
    {
     "data": {
      "text/plain": [
       "\n",
       "[[ 0.  1.  0.  0.  0. -1.  0.]\n",
       " [ 0.  1.  0.  0.  0. -1.  0.]\n",
       " [ 0.  1.  0.  0.  0. -1.  0.]\n",
       " [ 0.  1.  0.  0.  0. -1.  0.]\n",
       " [ 0.  1.  0.  0.  0. -1.  0.]\n",
       " [ 0.  1.  0.  0.  0. -1.  0.]]\n",
       "<NDArray 6x7 @cpu(0)>"
      ]
     },
     "execution_count": 6,
     "metadata": {},
     "output_type": "execute_result"
    }
   ],
   "source": [
    "Y=corr2d(X,K)\n",
    "Y# 0和1的边缘检测为1、-1"
   ]
  },
  {
   "cell_type": "code",
   "execution_count": 12,
   "metadata": {},
   "outputs": [
    {
     "name": "stdout",
     "output_type": "stream",
     "text": [
      "conv1_ (\n",
      "  Parameter conv1_weight (shape=(1, 0, 1, 2), dtype=<class 'numpy.float32'>)\n",
      "  Parameter conv1_bias (shape=(1,), dtype=<class 'numpy.float32'>)\n",
      ")\n",
      "batch 2,loss 5.063\n",
      "batch 4,loss 0.864\n",
      "batch 6,loss 0.151\n",
      "batch 8,loss 0.028\n",
      "batch 10,loss 0.006\n"
     ]
    },
    {
     "data": {
      "text/plain": [
       "conv1_ (\n",
       "  Parameter conv1_weight (shape=(1, 1, 1, 2), dtype=<class 'numpy.float32'>)\n",
       "  Parameter conv1_bias (shape=(1,), dtype=<class 'numpy.float32'>)\n",
       ")"
      ]
     },
     "execution_count": 12,
     "metadata": {},
     "output_type": "execute_result"
    }
   ],
   "source": [
    "# 5.1.4 通过数据学习核数组\n",
    "# 构造⼀个输出通道数为1，核数组形状是(1, 2)的二维卷积层 \n",
    "# Conv2D的第一个参数channels为输出通道数，输入通道数为in_channels默认为0，in_channels如果未指定，\n",
    "# 卷积层模型参数的初始化将推迟到第一次调用“ forward”时进行并且in_channels将根据输入数据的形状进行推断。\n",
    "conv2d=nn.Conv2D(1,kernel_size=(1,2))\n",
    "conv2d.initialize()\n",
    "print(conv2d.collect_params())\n",
    "\n",
    "# ⼆维卷积层使⽤4维输⼊输出，格式为(样本, 通道, ⾼, 宽)，这⾥批量⼤⼩（批量中的样本数）和通道数均为1 \n",
    "X=X.reshape((1,1,6,8))\n",
    "Y=Y.reshape((1,1,6,7))\n",
    "\n",
    "for i in range(10):\n",
    "    with autograd.record():\n",
    "        Y_hat=conv2d(X)\n",
    "        l=(Y_hat-Y)**2\n",
    "    l.backward()\n",
    "    # 简单起⻅，这⾥忽略了偏差\n",
    "    conv2d.weight.data()[:] -=3e-2 *conv2d.weight.grad()\n",
    "    if(i+1)%2 == 0:\n",
    "        print('batch %d,loss %.3f' %(i+1,l.sum().asscalar()))\n",
    "        \n",
    "conv2d.collect_params()"
   ]
  },
  {
   "cell_type": "code",
   "execution_count": 8,
   "metadata": {},
   "outputs": [
    {
     "data": {
      "text/plain": [
       "\n",
       "[[ 0.9895    -0.9873705]]\n",
       "<NDArray 1x2 @cpu(0)>"
      ]
     },
     "execution_count": 8,
     "metadata": {},
     "output_type": "execute_result"
    }
   ],
   "source": [
    "conv2d.weight.data().reshape((1,2))"
   ]
  },
  {
   "cell_type": "code",
   "execution_count": 9,
   "metadata": {},
   "outputs": [
    {
     "data": {
      "text/plain": [
       "(\n",
       " [[0. 1. 1. 1. 1. 1. 1. 1.]\n",
       "  [1. 0. 1. 1. 1. 1. 1. 1.]\n",
       "  [1. 1. 0. 1. 1. 1. 1. 1.]\n",
       "  [1. 1. 1. 0. 1. 1. 1. 1.]\n",
       "  [1. 1. 1. 1. 0. 1. 1. 1.]\n",
       "  [1. 1. 1. 1. 1. 0. 1. 1.]]\n",
       " <NDArray 6x8 @cpu(0)>,\n",
       " \n",
       " [[ 0.  1.  0.  0.  0.  0.  0.]\n",
       "  [-1.  0.  1.  0.  0.  0.  0.]\n",
       "  [ 0. -1.  0.  1.  0.  0.  0.]\n",
       "  [ 0.  0. -1.  0.  1.  0.  0.]\n",
       "  [ 0.  0.  0. -1.  0.  1.  0.]]\n",
       " <NDArray 5x7 @cpu(0)>)"
      ]
     },
     "execution_count": 9,
     "metadata": {},
     "output_type": "execute_result"
    }
   ],
   "source": [
    "# 练习1.构造⼀个输⼊图像X，令它有⽔平⽅向的边缘。如何设计卷积核K来检测图像中⽔平边缘？ 如果是对⻆⽅向的边缘呢？ \n",
    "# 水平方向的边缘\n",
    "X1=nd.ones((6,8))\n",
    "X1[2:4,:]=0\n",
    "K=nd.array([1,-1]).reshape(2,1)\n",
    "Y1=corr2d(X1,K)\n",
    "X1,Y1\n",
    "\n",
    "# 对角方向的边缘\n",
    "X1=nd.ones((6,8))\n",
    "for i in range(min(X1.shape)):\n",
    "    X1[i,i]=0\n",
    "K=nd.array([1,1,-1,-1]).reshape(2,2)\n",
    "Y1=corr2d(X1,K)\n",
    "X1,Y1"
   ]
  },
  {
   "cell_type": "code",
   "execution_count": 10,
   "metadata": {},
   "outputs": [
    {
     "name": "stdout",
     "output_type": "stream",
     "text": [
      "Object `mxnet.gluon` not found.\n"
     ]
    }
   ],
   "source": [
    "import mxnet \n",
    "mxnet.gluon??"
   ]
  },
  {
   "cell_type": "code",
   "execution_count": null,
   "metadata": {},
   "outputs": [],
   "source": [
    "mxnet.gluon.parameter.Parameter??"
   ]
  },
  {
   "cell_type": "code",
   "execution_count": null,
   "metadata": {},
   "outputs": [],
   "source": [
    "mxnet.gluon.parameter??"
   ]
  },
  {
   "cell_type": "code",
   "execution_count": null,
   "metadata": {},
   "outputs": [],
   "source": [
    "mxnet.gluon.parameter.ParameterDict??"
   ]
  }
 ],
 "metadata": {
  "kernelspec": {
   "display_name": "Python 3",
   "language": "python",
   "name": "python3"
  },
  "language_info": {
   "codemirror_mode": {
    "name": "ipython",
    "version": 3
   },
   "file_extension": ".py",
   "mimetype": "text/x-python",
   "name": "python",
   "nbconvert_exporter": "python",
   "pygments_lexer": "ipython3",
   "version": "3.6.10"
  }
 },
 "nbformat": 4,
 "nbformat_minor": 4
}
