{
 "cells": [
  {
   "cell_type": "code",
   "execution_count": 1,
   "metadata": {},
   "outputs": [],
   "source": [
    "# 4.5.1 读写NDArray\n",
    "# 直接使⽤save函数和load函数分别存储和读取NDArray。\n",
    "from mxnet import nd\n",
    "from mxnet.gluon import nn\n",
    "\n",
    "x=nd.ones(3)\n",
    "nd.save('x',x)"
   ]
  },
  {
   "cell_type": "code",
   "execution_count": 3,
   "metadata": {},
   "outputs": [
    {
     "data": {
      "text/plain": [
       "[\n",
       " [1. 1. 1.]\n",
       " <NDArray 3 @cpu(0)>]"
      ]
     },
     "execution_count": 3,
     "metadata": {},
     "output_type": "execute_result"
    }
   ],
   "source": [
    "x2=nd.load('x')\n",
    "x2"
   ]
  },
  {
   "cell_type": "code",
   "execution_count": 12,
   "metadata": {},
   "outputs": [
    {
     "data": {
      "text/plain": [
       "(\n",
       " [1. 1. 1.]\n",
       " <NDArray 3 @cpu(0)>,\n",
       " \n",
       " [0. 0. 0. 0.]\n",
       " <NDArray 4 @cpu(0)>)"
      ]
     },
     "execution_count": 12,
     "metadata": {},
     "output_type": "execute_result"
    }
   ],
   "source": [
    "y=nd.zeros(4)\n",
    "nd.save('xy',[x,y])# 保存NDArray列表为文件\n",
    "x2,y2=nd.load('xy')# 读取文件里的NDArray\n",
    "x2,y2"
   ]
  },
  {
   "cell_type": "code",
   "execution_count": 15,
   "metadata": {},
   "outputs": [
    {
     "data": {
      "text/plain": [
       "{'x': \n",
       " [1. 1. 1.]\n",
       " <NDArray 3 @cpu(0)>,\n",
       " 'y': \n",
       " [0. 0. 0. 0.]\n",
       " <NDArray 4 @cpu(0)>}"
      ]
     },
     "execution_count": 15,
     "metadata": {},
     "output_type": "execute_result"
    }
   ],
   "source": [
    "mydict={'x':x,'y':y}\n",
    "nd.save('mydict',mydict)# 保存str->NDArray的字典为文件\n",
    "mydict2=nd.load('mydict')\n",
    "mydict2"
   ]
  },
  {
   "cell_type": "code",
   "execution_count": 17,
   "metadata": {},
   "outputs": [],
   "source": [
    "# 4.5.2 读写Gluon模型的参数\n",
    "class MLP(nn.Block):\n",
    "    def __init__(self,**kwargs):\n",
    "        super(MLP,self).__init__(**kwargs)\n",
    "        self.hidden=nn.Dense(256,activation='relu')\n",
    "        self.output=nn.Dense(10)\n",
    "        \n",
    "    def forward(self,x):\n",
    "        return self.output(self.hidden(x))\n",
    "    \n",
    "net=MLP()\n",
    "net.initialize()\n",
    "X=nd.random.uniform(shape=(2,20))\n",
    "Y=net(X)"
   ]
  },
  {
   "cell_type": "code",
   "execution_count": 22,
   "metadata": {},
   "outputs": [],
   "source": [
    "filename='mlp.params'\n",
    "net.save_parameters(filename)# 保存模型参数为文件"
   ]
  },
  {
   "cell_type": "code",
   "execution_count": 23,
   "metadata": {},
   "outputs": [],
   "source": [
    "net2=MLP()\n",
    "net2.load_parameters(filename)# 读取文件里的模型参数"
   ]
  },
  {
   "cell_type": "code",
   "execution_count": 26,
   "metadata": {},
   "outputs": [
    {
     "data": {
      "text/plain": [
       "\n",
       "[[1. 1. 1. 1. 1. 1. 1. 1. 1. 1.]\n",
       " [1. 1. 1. 1. 1. 1. 1. 1. 1. 1.]]\n",
       "<NDArray 2x10 @cpu(0)>"
      ]
     },
     "execution_count": 26,
     "metadata": {},
     "output_type": "execute_result"
    }
   ],
   "source": [
    "Y2=net2(X)\n",
    "Y2==Y"
   ]
  },
  {
   "cell_type": "code",
   "execution_count": 27,
   "metadata": {},
   "outputs": [],
   "source": [
    "\n",
    "nd.save??\n",
    "nd.load??\n",
    "nd.save??\n",
    "nn.Block??\n",
    "\n",
    "nn.HybridBlock.export??\n",
    "net.save_parameters??\n",
    "net.load_parameters??"
   ]
  }
 ],
 "metadata": {
  "kernelspec": {
   "display_name": "Python 3",
   "language": "python",
   "name": "python3"
  },
  "language_info": {
   "codemirror_mode": {
    "name": "ipython",
    "version": 3
   },
   "file_extension": ".py",
   "mimetype": "text/x-python",
   "name": "python",
   "nbconvert_exporter": "python",
   "pygments_lexer": "ipython3",
   "version": "3.6.10"
  }
 },
 "nbformat": 4,
 "nbformat_minor": 4
}
