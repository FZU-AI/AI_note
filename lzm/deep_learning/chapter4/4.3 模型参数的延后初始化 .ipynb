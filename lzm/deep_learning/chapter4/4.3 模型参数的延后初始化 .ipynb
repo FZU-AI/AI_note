{
 "cells": [
  {
   "cell_type": "code",
   "execution_count": 16,
   "metadata": {},
   "outputs": [],
   "source": [
    "# 调⽤initialize函数时，由于隐藏层输⼊个数依然未知，系统也⽆法得知该层权重参数的形状，并没有真正初始化参数。\n",
    "# 只有在当我们将确定形状的输⼊X传进⽹络做前向计算net(X)时，系统才推断出该层的权重参数的形状。\n",
    "# 因此，net(X)时才能真正开始初始化参数。 \n",
    "from mxnet import init,nd\n",
    "from mxnet.gluon import nn\n",
    "\n",
    "class MyInit(init.Initializer):\n",
    "    def _init_weight(self,name,data):\n",
    "        print('Init',name,data.shape)\n",
    "\n",
    "net=nn.Sequential()\n",
    "net.add(nn.Dense(256,activation='relu'),\n",
    "       nn.Dense(10))\n",
    "\n",
    "net.initialize(init=MyInit())"
   ]
  },
  {
   "cell_type": "code",
   "execution_count": 17,
   "metadata": {},
   "outputs": [
    {
     "name": "stdout",
     "output_type": "stream",
     "text": [
      "Init dense8_weight (256, 20)\n",
      "Init dense9_weight (10, 256)\n"
     ]
    }
   ],
   "source": [
    "# 在根据输⼊X做前向计算时，系统能够根据输⼊的形 状⾃动推断出所有层的权重参数的形状。\n",
    "# 系统在创建这些参数之后，调⽤MyInit实例对它们进 ⾏初始化，然后才进⾏前向计算。 \n",
    "X=nd.random.uniform(shape=(2,20))\n",
    "Y=net(X)\n",
    "#X=X.reshape((1,40))\n",
    "#net(X)"
   ]
  },
  {
   "cell_type": "code",
   "execution_count": 3,
   "metadata": {},
   "outputs": [],
   "source": [
    "# 这个初始化只会在第⼀次前向计算时被调⽤。\n",
    "# 之后我们再运⾏前向计算net(X)时则不会重新初始化，因此不会再次产⽣MyInit实例的输出。 \n",
    "Y=net(X)"
   ]
  },
  {
   "cell_type": "code",
   "execution_count": 4,
   "metadata": {},
   "outputs": [
    {
     "name": "stdout",
     "output_type": "stream",
     "text": [
      "Init dense0_weight (256, 20)\n",
      "Init dense1_weight (10, 256)\n"
     ]
    }
   ],
   "source": [
    "# 4.3.2 避免延后初始化 \n",
    "# 1.对已初始化的模型重新初始化时。因为参数形状不会发⽣变化，所以系统能够⽴即进⾏重新初始化。 \n",
    "net.initialize(init=MyInit(),force_reinit=True)"
   ]
  },
  {
   "cell_type": "code",
   "execution_count": 7,
   "metadata": {},
   "outputs": [
    {
     "name": "stdout",
     "output_type": "stream",
     "text": [
      "Init dense4_weight (256, 20)\n",
      "Init dense5_weight (10, 256)\n"
     ]
    }
   ],
   "source": [
    "# 2.通过in_units来指定每个全连接层的输⼊个数，使初始化能够在initialize函数被调⽤时⽴即发⽣。 \n",
    "net=nn.Sequential()\n",
    "net.add(nn.Dense(256,in_units=20,activation='relu'))\n",
    "net.add(nn.Dense(10,in_units=256))\n",
    "\n",
    "net.initialize(init=MyInit())"
   ]
  },
  {
   "cell_type": "code",
   "execution_count": 5,
   "metadata": {},
   "outputs": [],
   "source": [
    "init.Initializer??\n",
    "nn.Dense??"
   ]
  }
 ],
 "metadata": {
  "kernelspec": {
   "display_name": "Python 3",
   "language": "python",
   "name": "python3"
  },
  "language_info": {
   "codemirror_mode": {
    "name": "ipython",
    "version": 3
   },
   "file_extension": ".py",
   "mimetype": "text/x-python",
   "name": "python",
   "nbconvert_exporter": "python",
   "pygments_lexer": "ipython3",
   "version": "3.6.10"
  }
 },
 "nbformat": 4,
 "nbformat_minor": 4
}
