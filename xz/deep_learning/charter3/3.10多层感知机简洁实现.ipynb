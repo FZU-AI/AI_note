{
 "cells": [
  {
   "cell_type": "code",
   "execution_count": 1,
   "metadata": {},
   "outputs": [],
   "source": [
    "import d2lzh as d2l\n",
    "from mxnet import gluon, init\n",
    "from mxnet.gluon import loss as gloss, nn"
   ]
  },
  {
   "cell_type": "code",
   "execution_count": 3,
   "metadata": {},
   "outputs": [],
   "source": [
    "net = nn.Sequential()\n",
    "# 添加隐藏层\n",
    "net.add(nn.Dense(256, activation='relu'),\n",
    "        nn.Dense(10))\n",
    "net.initialize(init.Normal(sigma=0.01))"
   ]
  },
  {
   "cell_type": "code",
   "execution_count": 4,
   "metadata": {},
   "outputs": [
    {
     "name": "stdout",
     "output_type": "stream",
     "text": [
      "epoch 1, loss 0.7967, train acc 0.702, test acc 0.807\n",
      "epoch 2, loss 0.4904, train acc 0.818, test acc 0.850\n",
      "epoch 3, loss 0.4336, train acc 0.838, test acc 0.856\n",
      "epoch 4, loss 0.3956, train acc 0.854, test acc 0.863\n",
      "epoch 5, loss 0.3689, train acc 0.865, test acc 0.874\n"
     ]
    }
   ],
   "source": [
    "batch_size = 256\n",
    "train_iter, test_iter = d2l.load_data_fashion_mnist(batch_size)\n",
    "\n",
    "loss = gloss.SoftmaxCrossEntropyLoss()\n",
    "trainer = gluon.Trainer(net.collect_params(), 'sgd', {'learning_rate': 0.5})\n",
    "num_epochs = 5\n",
    "d2l.train_ch3(net, train_iter, test_iter, loss, num_epochs, batch_size, None,\n",
    "              None, trainer)"
   ]
  },
  {
   "cell_type": "code",
   "execution_count": 5,
   "metadata": {},
   "outputs": [
    {
     "name": "stdout",
     "output_type": "stream",
     "text": [
      "epoch 1, loss 0.7692, train acc 0.718, test acc 0.811\n",
      "epoch 2, loss 0.5186, train acc 0.811, test acc 0.844\n",
      "epoch 3, loss 0.4716, train acc 0.828, test acc 0.847\n",
      "epoch 4, loss 0.4375, train acc 0.840, test acc 0.861\n",
      "epoch 5, loss 0.4110, train acc 0.848, test acc 0.838\n"
     ]
    }
   ],
   "source": [
    "net = nn.Sequential()\n",
    "# 添加隐藏层\n",
    "net.add(nn.Dense(256, activation='tanh'),\n",
    "        nn.Dense(10))\n",
    "net.initialize(init.Normal(sigma=0.01))\n",
    "batch_size = 256\n",
    "train_iter, test_iter = d2l.load_data_fashion_mnist(batch_size)\n",
    "\n",
    "loss = gloss.SoftmaxCrossEntropyLoss()\n",
    "trainer = gluon.Trainer(net.collect_params(), 'sgd', {'learning_rate': 0.5})\n",
    "num_epochs = 5\n",
    "d2l.train_ch3(net, train_iter, test_iter, loss, num_epochs, batch_size, None,\n",
    "              None, trainer)"
   ]
  },
  {
   "cell_type": "code",
   "execution_count": 6,
   "metadata": {},
   "outputs": [
    {
     "name": "stdout",
     "output_type": "stream",
     "text": [
      "epoch 1, loss 1.0541, train acc 0.609, test acc 0.731\n",
      "epoch 2, loss 0.5779, train acc 0.783, test acc 0.808\n",
      "epoch 3, loss 0.5039, train acc 0.816, test acc 0.835\n",
      "epoch 4, loss 0.4681, train acc 0.830, test acc 0.843\n",
      "epoch 5, loss 0.4431, train acc 0.839, test acc 0.846\n"
     ]
    }
   ],
   "source": [
    "net = nn.Sequential()\n",
    "# 添加隐藏层\n",
    "net.add(nn.Dense(256, activation='sigmoid'),\n",
    "        nn.Dense(10))\n",
    "net.initialize(init.Normal(sigma=0.01))\n",
    "batch_size = 256\n",
    "train_iter, test_iter = d2l.load_data_fashion_mnist(batch_size)\n",
    "\n",
    "loss = gloss.SoftmaxCrossEntropyLoss()\n",
    "trainer = gluon.Trainer(net.collect_params(), 'sgd', {'learning_rate': 0.5})\n",
    "num_epochs = 5\n",
    "d2l.train_ch3(net, train_iter, test_iter, loss, num_epochs, batch_size, None,\n",
    "              None, trainer)"
   ]
  },
  {
   "cell_type": "code",
   "execution_count": 9,
   "metadata": {},
   "outputs": [
    {
     "name": "stdout",
     "output_type": "stream",
     "text": [
      "epoch 1, loss 1.9463, train acc 0.221, test acc 0.497\n",
      "epoch 2, loss 0.9294, train acc 0.633, test acc 0.715\n",
      "epoch 3, loss 0.6073, train acc 0.769, test acc 0.781\n",
      "epoch 4, loss 0.5036, train acc 0.809, test acc 0.840\n",
      "epoch 5, loss 0.4902, train acc 0.820, test acc 0.834\n"
     ]
    }
   ],
   "source": [
    "net = nn.Sequential()\n",
    "# 添加隐藏层\n",
    "net.add(nn.Dense(256, activation='relu'),nn.Dense(256, activation='relu'),nn.Dense(256, activation='relu'),\n",
    "        nn.Dense(10))\n",
    "net.initialize(init.Normal(sigma=0.01))\n",
    "batch_size = 256\n",
    "train_iter, test_iter = d2l.load_data_fashion_mnist(batch_size)\n",
    "\n",
    "loss = gloss.SoftmaxCrossEntropyLoss()\n",
    "trainer = gluon.Trainer(net.collect_params(), 'sgd', {'learning_rate': 0.5})\n",
    "num_epochs = 5\n",
    "d2l.train_ch3(net, train_iter, test_iter, loss, num_epochs, batch_size, None,\n",
    "              None, trainer)"
   ]
  },
  {
   "cell_type": "code",
   "execution_count": null,
   "metadata": {},
   "outputs": [],
   "source": []
  }
 ],
 "metadata": {
  "kernelspec": {
   "display_name": "Python 3",
   "language": "python",
   "name": "python3"
  },
  "language_info": {
   "codemirror_mode": {
    "name": "ipython",
    "version": 3
   },
   "file_extension": ".py",
   "mimetype": "text/x-python",
   "name": "python",
   "nbconvert_exporter": "python",
   "pygments_lexer": "ipython3",
   "version": "3.6.10"
  }
 },
 "nbformat": 4,
 "nbformat_minor": 4
}
