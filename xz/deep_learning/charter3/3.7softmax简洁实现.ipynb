{
 "cells": [
  {
   "cell_type": "code",
   "execution_count": 1,
   "metadata": {},
   "outputs": [],
   "source": [
    "%matplotlib inline\n",
    "import d2lzh as d2l\n",
    "from mxnet import gluon, init\n",
    "from mxnet.gluon import loss as gloss, nn"
   ]
  },
  {
   "cell_type": "code",
   "execution_count": 7,
   "metadata": {},
   "outputs": [],
   "source": [
    "def test(batch_size,num_epochs,learning_rate):\n",
    "#     batch_size = 256\n",
    "    train_iter, test_iter = d2l.load_data_fashion_mnist(batch_size)\n",
    "\n",
    "    net = nn.Sequential()\n",
    "    net.add(nn.Dense(10))\n",
    "    net.initialize(init.Normal(sigma=0.01))\n",
    "\n",
    "    loss = gloss.SoftmaxCrossEntropyLoss()\n",
    "    # 获得优化算法，trainer-训练者\n",
    "    trainer = gluon.Trainer(net.collect_params(), 'sgd', {'learning_rate': learning_rate})\n",
    "#     num_epochs = 5\n",
    "    d2l.train_ch3(net, train_iter, test_iter, loss, num_epochs, batch_size, None,\n",
    "                  None, trainer)"
   ]
  },
  {
   "cell_type": "code",
   "execution_count": 8,
   "metadata": {},
   "outputs": [
    {
     "name": "stdout",
     "output_type": "stream",
     "text": [
      "epoch 1, loss 1.0654, train acc 0.725, test acc 0.792\n",
      "epoch 2, loss 0.6888, train acc 0.796, test acc 0.831\n",
      "epoch 3, loss 0.6034, train acc 0.812, test acc 0.815\n",
      "epoch 4, loss 0.5961, train acc 0.814, test acc 0.847\n",
      "epoch 5, loss 0.5703, train acc 0.822, test acc 0.847\n"
     ]
    }
   ],
   "source": [
    "test(256,5,0.3)"
   ]
  },
  {
   "cell_type": "code",
   "execution_count": 9,
   "metadata": {},
   "outputs": [
    {
     "name": "stdout",
     "output_type": "stream",
     "text": [
      "epoch 1, loss 1.1808, train acc 0.690, test acc 0.796\n",
      "epoch 2, loss 0.7848, train acc 0.773, test acc 0.799\n",
      "epoch 3, loss 0.6868, train acc 0.792, test acc 0.834\n",
      "epoch 4, loss 0.6336, train acc 0.804, test acc 0.841\n",
      "epoch 5, loss 0.6071, train acc 0.810, test acc 0.834\n"
     ]
    }
   ],
   "source": [
    "test(512,5,0.3)"
   ]
  },
  {
   "cell_type": "code",
   "execution_count": 10,
   "metadata": {},
   "outputs": [
    {
     "name": "stdout",
     "output_type": "stream",
     "text": [
      "epoch 1, loss 0.9501, train acc 0.752, test acc 0.808\n",
      "epoch 2, loss 0.6358, train acc 0.808, test acc 0.813\n",
      "epoch 3, loss 0.6048, train acc 0.819, test acc 0.840\n",
      "epoch 4, loss 0.6027, train acc 0.820, test acc 0.837\n",
      "epoch 5, loss 0.5853, train acc 0.826, test acc 0.851\n"
     ]
    }
   ],
   "source": [
    "test(128,5,0.3)"
   ]
  },
  {
   "cell_type": "code",
   "execution_count": 11,
   "metadata": {},
   "outputs": [
    {
     "name": "stdout",
     "output_type": "stream",
     "text": [
      "epoch 1, loss 0.8905, train acc 0.770, test acc 0.827\n",
      "epoch 2, loss 0.6737, train acc 0.812, test acc 0.845\n",
      "epoch 3, loss 0.6566, train acc 0.817, test acc 0.781\n",
      "epoch 4, loss 0.6264, train acc 0.823, test acc 0.853\n",
      "epoch 5, loss 0.6070, train acc 0.827, test acc 0.840\n"
     ]
    }
   ],
   "source": [
    "test(64,5,0.3)"
   ]
  },
  {
   "cell_type": "code",
   "execution_count": 12,
   "metadata": {},
   "outputs": [
    {
     "name": "stdout",
     "output_type": "stream",
     "text": [
      "epoch 1, loss 0.9653, train acc 0.773, test acc 0.807\n",
      "epoch 2, loss 0.7854, train acc 0.807, test acc 0.842\n",
      "epoch 3, loss 0.7198, train acc 0.818, test acc 0.842\n",
      "epoch 4, loss 0.7355, train acc 0.820, test acc 0.753\n",
      "epoch 5, loss 0.7219, train acc 0.822, test acc 0.843\n"
     ]
    }
   ],
   "source": [
    "test(32,5,0.3)"
   ]
  },
  {
   "cell_type": "code",
   "execution_count": 13,
   "metadata": {},
   "outputs": [
    {
     "name": "stdout",
     "output_type": "stream",
     "text": [
      "epoch 1, loss 0.9058, train acc 0.767, test acc 0.828\n",
      "epoch 2, loss 0.6832, train acc 0.810, test acc 0.848\n",
      "epoch 3, loss 0.6493, train acc 0.818, test acc 0.848\n",
      "epoch 4, loss 0.6319, train acc 0.822, test acc 0.851\n",
      "epoch 5, loss 0.6156, train acc 0.826, test acc 0.850\n",
      "epoch 6, loss 0.6328, train acc 0.825, test acc 0.821\n",
      "epoch 7, loss 0.6016, train acc 0.830, test acc 0.839\n",
      "epoch 8, loss 0.6025, train acc 0.829, test acc 0.800\n",
      "epoch 9, loss 0.5753, train acc 0.832, test acc 0.853\n",
      "epoch 10, loss 0.5785, train acc 0.834, test acc 0.845\n"
     ]
    }
   ],
   "source": [
    "test(64,10,0.3)"
   ]
  },
  {
   "cell_type": "code",
   "execution_count": 14,
   "metadata": {},
   "outputs": [
    {
     "name": "stdout",
     "output_type": "stream",
     "text": [
      "epoch 1, loss 0.7051, train acc 0.779, test acc 0.835\n",
      "epoch 2, loss 0.5557, train acc 0.820, test acc 0.830\n",
      "epoch 3, loss 0.5200, train acc 0.829, test acc 0.842\n",
      "epoch 4, loss 0.5087, train acc 0.834, test acc 0.841\n",
      "epoch 5, loss 0.4910, train acc 0.838, test acc 0.850\n",
      "epoch 6, loss 0.4919, train acc 0.839, test acc 0.853\n",
      "epoch 7, loss 0.4826, train acc 0.841, test acc 0.830\n",
      "epoch 8, loss 0.4877, train acc 0.839, test acc 0.849\n",
      "epoch 9, loss 0.4703, train acc 0.844, test acc 0.826\n",
      "epoch 10, loss 0.4685, train acc 0.843, test acc 0.856\n"
     ]
    }
   ],
   "source": [
    "test(64,10,0.2)"
   ]
  },
  {
   "cell_type": "code",
   "execution_count": 15,
   "metadata": {},
   "outputs": [
    {
     "name": "stdout",
     "output_type": "stream",
     "text": [
      "epoch 1, loss 0.6258, train acc 0.788, test acc 0.832\n",
      "epoch 2, loss 0.4954, train acc 0.829, test acc 0.828\n",
      "epoch 3, loss 0.4684, train acc 0.838, test acc 0.840\n",
      "epoch 4, loss 0.4530, train acc 0.843, test acc 0.846\n",
      "epoch 5, loss 0.4449, train acc 0.846, test acc 0.855\n",
      "epoch 6, loss 0.4383, train acc 0.848, test acc 0.847\n",
      "epoch 7, loss 0.4326, train acc 0.851, test acc 0.845\n",
      "epoch 8, loss 0.4275, train acc 0.853, test acc 0.842\n",
      "epoch 9, loss 0.4243, train acc 0.853, test acc 0.850\n",
      "epoch 10, loss 0.4218, train acc 0.854, test acc 0.853\n"
     ]
    }
   ],
   "source": [
    "test(64,10,0.1)"
   ]
  },
  {
   "cell_type": "code",
   "execution_count": 16,
   "metadata": {},
   "outputs": [
    {
     "name": "stdout",
     "output_type": "stream",
     "text": [
      "epoch 1, loss 0.6840, train acc 0.778, test acc 0.821\n",
      "epoch 2, loss 0.5207, train acc 0.825, test acc 0.830\n",
      "epoch 3, loss 0.4865, train acc 0.835, test acc 0.840\n",
      "epoch 4, loss 0.4688, train acc 0.840, test acc 0.845\n",
      "epoch 5, loss 0.4567, train acc 0.844, test acc 0.850\n",
      "epoch 6, loss 0.4480, train acc 0.847, test acc 0.848\n",
      "epoch 7, loss 0.4418, train acc 0.849, test acc 0.848\n",
      "epoch 8, loss 0.4362, train acc 0.850, test acc 0.840\n",
      "epoch 9, loss 0.4314, train acc 0.852, test acc 0.853\n",
      "epoch 10, loss 0.4282, train acc 0.854, test acc 0.855\n"
     ]
    }
   ],
   "source": [
    "test(64,10,0.05)"
   ]
  },
  {
   "cell_type": "code",
   "execution_count": 17,
   "metadata": {},
   "outputs": [
    {
     "name": "stdout",
     "output_type": "stream",
     "text": [
      "epoch 1, loss 0.6246, train acc 0.789, test acc 0.833\n",
      "epoch 2, loss 0.4965, train acc 0.830, test acc 0.841\n",
      "epoch 3, loss 0.4686, train acc 0.838, test acc 0.851\n",
      "epoch 4, loss 0.4533, train acc 0.843, test acc 0.835\n",
      "epoch 5, loss 0.4447, train acc 0.846, test acc 0.847\n",
      "epoch 6, loss 0.4383, train acc 0.849, test acc 0.852\n",
      "epoch 7, loss 0.4315, train acc 0.851, test acc 0.843\n",
      "epoch 8, loss 0.4270, train acc 0.852, test acc 0.854\n"
     ]
    }
   ],
   "source": [
    "test(64,8,0.1)"
   ]
  },
  {
   "cell_type": "code",
   "execution_count": null,
   "metadata": {},
   "outputs": [],
   "source": []
  }
 ],
 "metadata": {
  "kernelspec": {
   "display_name": "Python 3",
   "language": "python",
   "name": "python3"
  },
  "language_info": {
   "codemirror_mode": {
    "name": "ipython",
    "version": 3
   },
   "file_extension": ".py",
   "mimetype": "text/x-python",
   "name": "python",
   "nbconvert_exporter": "python",
   "pygments_lexer": "ipython3",
   "version": "3.6.10"
  }
 },
 "nbformat": 4,
 "nbformat_minor": 4
}
