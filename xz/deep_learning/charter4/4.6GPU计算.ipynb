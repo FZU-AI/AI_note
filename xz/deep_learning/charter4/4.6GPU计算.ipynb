{
 "cells": [
  {
   "cell_type": "code",
   "execution_count": 1,
   "metadata": {},
   "outputs": [
    {
     "data": {
      "text/plain": [
       "(cpu(0), gpu(0), gpu(1))"
      ]
     },
     "execution_count": 1,
     "metadata": {},
     "output_type": "execute_result"
    }
   ],
   "source": [
    "import mxnet as mx\n",
    "from mxnet import nd\n",
    "from mxnet.gluon import nn\n",
    "\n",
    "mx.cpu(), mx.gpu(), mx.gpu(1)"
   ]
  },
  {
   "cell_type": "code",
   "execution_count": null,
   "metadata": {},
   "outputs": [],
   "source": [
    "x = nd.array([1, 2, 3])\n",
    "x"
   ]
  },
  {
   "cell_type": "code",
   "execution_count": 9,
   "metadata": {},
   "outputs": [
    {
     "data": {
      "text/plain": [
       "cpu(0)"
      ]
     },
     "execution_count": 9,
     "metadata": {},
     "output_type": "execute_result"
    }
   ],
   "source": [
    "x.context"
   ]
  },
  {
   "cell_type": "code",
   "execution_count": 10,
   "metadata": {},
   "outputs": [
    {
     "data": {
      "text/plain": [
       "\n",
       "[1. 2. 3.]\n",
       "<NDArray 3 @gpu(0)>"
      ]
     },
     "execution_count": 10,
     "metadata": {},
     "output_type": "execute_result"
    }
   ],
   "source": [
    "a = nd.array([1, 2, 3], ctx=mx.gpu())\n",
    "a"
   ]
  },
  {
   "cell_type": "code",
   "execution_count": 12,
   "metadata": {},
   "outputs": [
    {
     "data": {
      "text/plain": [
       "\n",
       "[[0.6686509  0.17409194 0.3850025 ]\n",
       " [0.24678314 0.35134333 0.8404298 ]]\n",
       "<NDArray 2x3 @gpu(0)>"
      ]
     },
     "execution_count": 12,
     "metadata": {},
     "output_type": "execute_result"
    }
   ],
   "source": [
    "B = nd.random.uniform(shape=(2, 3), ctx=mx.gpu())\n",
    "B"
   ]
  },
  {
   "cell_type": "code",
   "execution_count": 13,
   "metadata": {},
   "outputs": [
    {
     "data": {
      "text/plain": [
       "\n",
       "[1. 2. 3.]\n",
       "<NDArray 3 @gpu(0)>"
      ]
     },
     "execution_count": 13,
     "metadata": {},
     "output_type": "execute_result"
    }
   ],
   "source": [
    "# 我们也可以通过copyto函数和as_in_context函数在设备之间传输数据。\n",
    "# 下面我们将内存上的NDArray变量x复制到gpu(0)上。\n",
    "# 如果源和目标的context一致，as_in_context不复制，而copyto总是会新建内存。\n",
    "y = x.copyto(mx.gpu())\n",
    "y"
   ]
  },
  {
   "cell_type": "code",
   "execution_count": 14,
   "metadata": {},
   "outputs": [
    {
     "data": {
      "text/plain": [
       "\n",
       "[1. 2. 3.]\n",
       "<NDArray 3 @gpu(0)>"
      ]
     },
     "execution_count": 14,
     "metadata": {},
     "output_type": "execute_result"
    }
   ],
   "source": [
    "z = x.as_in_context(mx.gpu())\n",
    "z"
   ]
  },
  {
   "cell_type": "code",
   "execution_count": 15,
   "metadata": {},
   "outputs": [
    {
     "data": {
      "text/plain": [
       "True"
      ]
     },
     "execution_count": 15,
     "metadata": {},
     "output_type": "execute_result"
    }
   ],
   "source": [
    "y.as_in_context(mx.gpu()) is y"
   ]
  },
  {
   "cell_type": "code",
   "execution_count": 16,
   "metadata": {},
   "outputs": [
    {
     "data": {
      "text/plain": [
       "False"
      ]
     },
     "execution_count": 16,
     "metadata": {},
     "output_type": "execute_result"
    }
   ],
   "source": [
    "y.copyto(mx.gpu()) is y"
   ]
  },
  {
   "cell_type": "code",
   "execution_count": 17,
   "metadata": {},
   "outputs": [
    {
     "data": {
      "text/plain": [
       "\n",
       "[ 20.085537 109.1963   445.2395  ]\n",
       "<NDArray 3 @gpu(0)>"
      ]
     },
     "execution_count": 17,
     "metadata": {},
     "output_type": "execute_result"
    }
   ],
   "source": [
    "(z + 2).exp() * y\n",
    "# MXNet要求计算的所有输入数据都在内存或同一块显卡的显存上。这样设计的原因是CPU和不同的GPU之间的数据交互通常比较耗时。\n",
    "# 当我们打印NDArray或将NDArray转换成NumPy格式时，如果数据不在内存里，MXNet会将它先复制到内存，从而造成额外的传输开销。"
   ]
  },
  {
   "cell_type": "code",
   "execution_count": 18,
   "metadata": {},
   "outputs": [
    {
     "data": {
      "text/plain": [
       "\n",
       "[[0.0068339 ]\n",
       " [0.01366779]\n",
       " [0.02050169]]\n",
       "<NDArray 3x1 @gpu(0)>"
      ]
     },
     "execution_count": 18,
     "metadata": {},
     "output_type": "execute_result"
    }
   ],
   "source": [
    "net = nn.Sequential()\n",
    "net.add(nn.Dense(1))\n",
    "net.initialize(ctx=mx.gpu())\n",
    "net(y)"
   ]
  },
  {
   "cell_type": "code",
   "execution_count": 19,
   "metadata": {},
   "outputs": [
    {
     "data": {
      "text/plain": [
       "\n",
       "[[0.0068339]]\n",
       "<NDArray 1x1 @gpu(0)>"
      ]
     },
     "execution_count": 19,
     "metadata": {},
     "output_type": "execute_result"
    }
   ],
   "source": [
    "net[0].weight.data()"
   ]
  },
  {
   "cell_type": "code",
   "execution_count": 8,
   "metadata": {},
   "outputs": [
    {
     "data": {
      "text/plain": [
       "0.0"
      ]
     },
     "execution_count": 8,
     "metadata": {},
     "output_type": "execute_result"
    }
   ],
   "source": [
    "import datetime\n",
    "X = nd.random.normal(shape=(3000, 3000), ctx=mx.gpu())\n",
    "Y = nd.random.normal(shape=(3000, 3000), ctx=mx.gpu())\n",
    "start = datetime.datetime.now()\n",
    "Z=X*Y\n",
    "end = datetime.datetime.now()\n",
    "(end - start).total_seconds()"
   ]
  },
  {
   "cell_type": "code",
   "execution_count": 9,
   "metadata": {},
   "outputs": [
    {
     "data": {
      "text/plain": [
       "0.000999"
      ]
     },
     "execution_count": 9,
     "metadata": {},
     "output_type": "execute_result"
    }
   ],
   "source": [
    "A = nd.random.normal(shape=(3000, 3000))\n",
    "B = nd.random.normal(shape=(3000, 3000))\n",
    "start = datetime.datetime.now()\n",
    "C=A*B\n",
    "end = datetime.datetime.now()\n",
    "(end - start).total_seconds()"
   ]
  },
  {
   "cell_type": "code",
   "execution_count": 10,
   "metadata": {},
   "outputs": [
    {
     "name": "stdout",
     "output_type": "stream",
     "text": [
      "\n",
      "[[ 0.89465535 -1.9110221  -0.10733627 ... -0.1253494   0.04253551\n",
      "   0.22577497]\n",
      " [ 0.5332856  -0.10255311  1.0588793  ... -1.2813464  -1.7994809\n",
      "   0.4718116 ]\n",
      " [ 1.0075074   0.33341265 -0.56720525 ...  2.0934336  -0.06873859\n",
      "   0.00940023]\n",
      " ...\n",
      " [ 1.7307513   0.5995128  -1.3888181  ... -0.03910211 -0.9913452\n",
      "   0.04238579]\n",
      " [ 2.2259228   0.50668216 -0.5604384  ... -0.2725489  -1.4792203\n",
      "   0.74461156]\n",
      " [-0.18553199  0.99963915 -1.2432638  ...  0.05341112  0.13708664\n",
      "   0.3441057 ]]\n",
      "<NDArray 3000x3000 @gpu(0)>\n"
     ]
    },
    {
     "data": {
      "text/plain": [
       "0.023164"
      ]
     },
     "execution_count": 10,
     "metadata": {},
     "output_type": "execute_result"
    }
   ],
   "source": [
    "start = datetime.datetime.now()\n",
    "print(Z)\n",
    "end = datetime.datetime.now()\n",
    "(end - start).total_seconds()"
   ]
  },
  {
   "cell_type": "code",
   "execution_count": 11,
   "metadata": {},
   "outputs": [
    {
     "name": "stdout",
     "output_type": "stream",
     "text": [
      "\n",
      "[[ 2.0642863e-01 -1.7820270e+00 -2.3931114e-01 ...  9.9502936e-02\n",
      "  -1.2102258e+00  3.3463445e-01]\n",
      " [ 2.4327440e+00  9.3441612e-01  8.3713609e-01 ... -4.4053119e-01\n",
      "  -3.3660698e-01 -9.5323630e-02]\n",
      " [-4.7700271e-01 -5.2013403e-01  6.5845318e-02 ...  4.0167645e-01\n",
      "  -2.1521257e-01  4.8741961e-01]\n",
      " ...\n",
      " [ 1.0601908e+00  3.1669009e-01  5.7301050e-01 ...  1.7588601e+00\n",
      "  -7.5194031e-02 -8.6234754e-01]\n",
      " [-2.4109283e-02 -3.0116704e-01  2.1263559e+00 ... -1.7738518e+00\n",
      "   8.4608167e-01 -1.6735253e-01]\n",
      " [ 1.2022187e-03  3.6249746e-02  1.7142835e-01 ... -6.0034692e-01\n",
      "   1.7511520e+00 -2.0559394e-01]]\n",
      "<NDArray 3000x3000 @cpu(0)>\n"
     ]
    },
    {
     "data": {
      "text/plain": [
       "0.019946"
      ]
     },
     "execution_count": 11,
     "metadata": {},
     "output_type": "execute_result"
    }
   ],
   "source": [
    "start = datetime.datetime.now()\n",
    "print(C)\n",
    "end = datetime.datetime.now()\n",
    "(end - start).total_seconds()"
   ]
  },
  {
   "cell_type": "code",
   "execution_count": null,
   "metadata": {},
   "outputs": [],
   "source": []
  }
 ],
 "metadata": {
  "kernelspec": {
   "display_name": "Python 3",
   "language": "python",
   "name": "python3"
  },
  "language_info": {
   "codemirror_mode": {
    "name": "ipython",
    "version": 3
   },
   "file_extension": ".py",
   "mimetype": "text/x-python",
   "name": "python",
   "nbconvert_exporter": "python",
   "pygments_lexer": "ipython3",
   "version": "3.6.10"
  }
 },
 "nbformat": 4,
 "nbformat_minor": 4
}
