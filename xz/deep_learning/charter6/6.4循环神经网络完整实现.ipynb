{
 "cells": [
  {
   "cell_type": "code",
   "execution_count": 1,
   "metadata": {},
   "outputs": [],
   "source": [
    "import d2lzh as d2l\n",
    "import math\n",
    "from mxnet import autograd, nd\n",
    "from mxnet.gluon import loss as gloss\n",
    "import time\n",
    "\n",
    "(corpus_indices, char_to_idx, idx_to_char,\n",
    " vocab_size) = d2l.load_data_jay_lyrics()"
   ]
  },
  {
   "cell_type": "code",
   "execution_count": 2,
   "metadata": {},
   "outputs": [
    {
     "data": {
      "text/plain": [
       "\n",
       "[[1. 0. 0. ... 0. 0. 0.]\n",
       " [0. 0. 1. ... 0. 0. 0.]]\n",
       "<NDArray 2x1027 @cpu(0)>"
      ]
     },
     "execution_count": 2,
     "metadata": {},
     "output_type": "execute_result"
    }
   ],
   "source": [
    "# 索引为0和2的one-hot向量\n",
    "nd.one_hot(nd.array([0, 2]), vocab_size)"
   ]
  },
  {
   "cell_type": "code",
   "execution_count": 3,
   "metadata": {},
   "outputs": [
    {
     "data": {
      "text/plain": [
       "(5, (2, 1027))"
      ]
     },
     "execution_count": 3,
     "metadata": {},
     "output_type": "execute_result"
    }
   ],
   "source": [
    "def to_onehot(X, size):\n",
    "    return [nd.one_hot(x, size) for x in X.T]\n",
    "\n",
    "X = nd.arange(10).reshape((2,5))\n",
    "inputs = to_onehot(X, vocab_size)\n",
    "len(inputs), inputs[0].shape"
   ]
  },
  {
   "cell_type": "code",
   "execution_count": 4,
   "metadata": {},
   "outputs": [
    {
     "data": {
      "text/plain": [
       "[\n",
       " [[1. 0. 0. ... 0. 0. 0.]\n",
       "  [0. 0. 0. ... 0. 0. 0.]]\n",
       " <NDArray 2x1027 @cpu(0)>,\n",
       " \n",
       " [[0. 1. 0. ... 0. 0. 0.]\n",
       "  [0. 0. 0. ... 0. 0. 0.]]\n",
       " <NDArray 2x1027 @cpu(0)>,\n",
       " \n",
       " [[0. 0. 1. ... 0. 0. 0.]\n",
       "  [0. 0. 0. ... 0. 0. 0.]]\n",
       " <NDArray 2x1027 @cpu(0)>,\n",
       " \n",
       " [[0. 0. 0. ... 0. 0. 0.]\n",
       "  [0. 0. 0. ... 0. 0. 0.]]\n",
       " <NDArray 2x1027 @cpu(0)>,\n",
       " \n",
       " [[0. 0. 0. ... 0. 0. 0.]\n",
       "  [0. 0. 0. ... 0. 0. 0.]]\n",
       " <NDArray 2x1027 @cpu(0)>]"
      ]
     },
     "execution_count": 4,
     "metadata": {},
     "output_type": "execute_result"
    }
   ],
   "source": [
    "inputs"
   ]
  },
  {
   "cell_type": "code",
   "execution_count": 5,
   "metadata": {},
   "outputs": [
    {
     "data": {
      "text/plain": [
       "\n",
       "[[0. 1. 2. 3. 4.]\n",
       " [5. 6. 7. 8. 9.]]\n",
       "<NDArray 2x5 @cpu(0)>"
      ]
     },
     "execution_count": 5,
     "metadata": {},
     "output_type": "execute_result"
    }
   ],
   "source": [
    "X"
   ]
  },
  {
   "cell_type": "code",
   "execution_count": 6,
   "metadata": {},
   "outputs": [
    {
     "name": "stdout",
     "output_type": "stream",
     "text": [
      "will use gpu(0)\n"
     ]
    }
   ],
   "source": [
    "# num_hiddens是一个超参数\n",
    "num_inputs, num_hiddens, num_outputs = vocab_size, 256, vocab_size\n",
    "ctx = d2l.try_gpu()\n",
    "print('will use', ctx)\n"
   ]
  },
  {
   "cell_type": "code",
   "execution_count": 16,
   "metadata": {},
   "outputs": [],
   "source": [
    "def get_params():\n",
    "    def _one(shape):\n",
    "        return nd.random.normal(scale=0.01, shape=shape, ctx=ctx)\n",
    "    \n",
    "    # 隐藏层参数\n",
    "    W_xh_1 = _one((num_inputs, num_hiddens))\n",
    "    W_hh_1 = _one((num_hiddens, num_hiddens))\n",
    "    b_h_1 = nd.zeros(num_hiddens, ctx=ctx)\n",
    "    W_xh_2 = _one((num_hiddens, num_hiddens))\n",
    "    W_hh_2 = _one((num_hiddens, num_hiddens))\n",
    "    b_h_2 = nd.zeros(num_hiddens, ctx=ctx)\n",
    "    # 输出层参数\n",
    "    W_hq = _one((num_hiddens, num_outputs))\n",
    "    b_q = nd.zeros(num_outputs, ctx=ctx)\n",
    "    # 附上梯度\n",
    "    params = [W_xh_1, W_hh_1, b_h_1, W_xh_2, W_hh_2, b_h_2, W_hq, b_q]\n",
    "    for param in params:\n",
    "        param.attach_grad()\n",
    "    return params"
   ]
  },
  {
   "cell_type": "code",
   "execution_count": 17,
   "metadata": {},
   "outputs": [],
   "source": [
    "# 返回初始化的隐藏状态\n",
    "def init_rnn_state(batch_size, num_hiddens, ctx):\n",
    "    return (nd.zeros(shape=(batch_size, num_hiddens), ctx=ctx), \n",
    "            nd.zeros(shape=(batch_size, num_hiddens), ctx=ctx))"
   ]
  },
  {
   "cell_type": "code",
   "execution_count": 18,
   "metadata": {},
   "outputs": [],
   "source": [
    "# 循环神经网络模型，relu激活函数\n",
    "def rnn(inputs, state, params):\n",
    "    # inputs和outputs皆为num_steps个形状为(batch_size, vocab_size)的矩阵\n",
    "    W_xh_1, W_hh_1, b_h_1, W_xh_2, W_hh_2, b_h_2, W_hq, b_q = params\n",
    "    H_1,H_2 = state\n",
    "    outputs = []\n",
    "    for X in inputs:\n",
    "        H_1 = nd.relu(nd.dot(X, W_xh_1) + nd.dot(H_1, W_hh_1) + b_h_1)\n",
    "        H_2 = nd.relu(nd.dot(H_1, W_xh_2) + nd.dot(H_2, W_hh_2) + b_h_2)\n",
    "        Y = nd.dot(H_2, W_hq) + b_q\n",
    "        outputs.append(Y)\n",
    "    return outputs, (H_1,H_2)"
   ]
  },
  {
   "cell_type": "code",
   "execution_count": 22,
   "metadata": {},
   "outputs": [
    {
     "data": {
      "text/plain": [
       "(5, (2, 1027), (2, 256), (2, 256))"
      ]
     },
     "execution_count": 22,
     "metadata": {},
     "output_type": "execute_result"
    }
   ],
   "source": [
    "state = init_rnn_state(X.shape[0], num_hiddens, ctx)\n",
    "inputs = to_onehot(X.as_in_context(ctx), vocab_size)\n",
    "params = get_params()\n",
    "outputs, state_new = rnn(inputs, state, params)\n",
    "len(outputs), outputs[0].shape, state_new[0].shape, state_new[1].shape"
   ]
  },
  {
   "cell_type": "code",
   "execution_count": 23,
   "metadata": {},
   "outputs": [],
   "source": [
    "def predict_rnn(prefix, num_chars, rnn, params, init_rnn_state, num_hiddens, vocab_size, ctx, idx_to_char, char_to_idx):\n",
    "    state = init_rnn_state(1, num_hiddens, ctx)\n",
    "    output = [char_to_idx[prefix[0]]]\n",
    "    for t in range(num_chars + len(prefix) -  1):\n",
    "        # 将上一时间步的输出作为当前时间步的输入\n",
    "        X = to_onehot(nd.array([output[-1]], ctx=ctx), vocab_size)\n",
    "        # 计算输出和更新隐藏状态\n",
    "        (Y, state) = rnn(X, state, params)\n",
    "        # 下一个时间步的输入是prefix里的字符或者当前的最佳预测字符\n",
    "        if t < len(prefix) -1:\n",
    "            output.append(char_to_idx[prefix[t+1]])\n",
    "        else:\n",
    "            output.append(int(Y[0].argmax(axis=1).asscalar()))\n",
    "    return ''.join([idx_to_char[i] for i in output])"
   ]
  },
  {
   "cell_type": "code",
   "execution_count": 24,
   "metadata": {},
   "outputs": [
    {
     "data": {
      "text/plain": [
       "'分开可骨盯死鸦息息息息息'"
      ]
     },
     "execution_count": 24,
     "metadata": {},
     "output_type": "execute_result"
    }
   ],
   "source": [
    "predict_rnn('分开', 10, rnn, params, init_rnn_state, num_hiddens, vocab_size,\n",
    "            ctx, idx_to_char, char_to_idx)"
   ]
  },
  {
   "cell_type": "code",
   "execution_count": 25,
   "metadata": {},
   "outputs": [],
   "source": [
    "# 循环神经网络中较容易出现梯度衰减或梯度爆炸。\n",
    "# 裁剪梯度（clip gradient）\n",
    "def grad_clipping(params, theta, ctx):\n",
    "    norm = nd.array([0], ctx)\n",
    "    for param in params:\n",
    "        norm += (param.grad **2).sum()\n",
    "    norm = norm.sqrt().asscalar()\n",
    "    # 把所有模型参数梯度的元素拼接成一个向量g，也就是下面的norm\n",
    "    if norm > theta:\n",
    "        for param in params:\n",
    "            param.grad[:] *= theta/norm"
   ]
  },
  {
   "cell_type": "code",
   "execution_count": 26,
   "metadata": {},
   "outputs": [],
   "source": [
    "# 本函数已保存在d2lzh包中方便以后使用\n",
    "def train_and_predict_rnn(rnn, get_params, init_rnn_state, num_hiddens,\n",
    "                          vocab_size, ctx, corpus_indices, idx_to_char,\n",
    "                          char_to_idx, is_random_iter, num_epochs, num_steps,\n",
    "                          lr, clipping_theta, batch_size, pred_period,\n",
    "                          pred_len, prefixes):\n",
    "    if is_random_iter:\n",
    "        data_iter_fn = d2l.data_iter_random\n",
    "    else:\n",
    "        data_iter_fn = d2l.data_iter_consecutive\n",
    "    params = get_params()\n",
    "    loss = gloss.SoftmaxCrossEntropyLoss()\n",
    "\n",
    "    for epoch in range(num_epochs):\n",
    "        if not is_random_iter:  # 如使用相邻采样，在epoch开始时初始化隐藏状态\n",
    "            state = init_rnn_state(batch_size, num_hiddens, ctx)\n",
    "        l_sum, n, start = 0.0, 0, time.time()\n",
    "        data_iter = data_iter_fn(corpus_indices, batch_size, num_steps, ctx)\n",
    "        for X, Y in data_iter:\n",
    "            if is_random_iter:  # 如使用随机采样，在每个小批量更新前初始化隐藏状态\n",
    "                state = init_rnn_state(batch_size, num_hiddens, ctx)\n",
    "            else:  # 否则需要使用detach函数从计算图分离隐藏状态\n",
    "                for s in state:\n",
    "                    s.detach()\n",
    "            with autograd.record():\n",
    "                inputs = to_onehot(X, vocab_size)\n",
    "                # outputs有num_steps个形状为(batch_size, vocab_size)的矩阵\n",
    "                (outputs, state) = rnn(inputs, state, params)\n",
    "                # 连结之后形状为(num_steps * batch_size, vocab_size)\n",
    "                outputs = nd.concat(*outputs, dim=0)\n",
    "                # Y的形状是(batch_size, num_steps)，转置后再变成长度为\n",
    "                # batch * num_steps 的向量，这样跟输出的行一一对应\n",
    "                y = Y.T.reshape((-1,))\n",
    "                # 使用交叉熵损失计算平均分类误差\n",
    "                l = loss(outputs, y).mean()\n",
    "            l.backward()\n",
    "            grad_clipping(params, clipping_theta, ctx)  # 裁剪梯度\n",
    "            d2l.sgd(params, lr, 1)  # 因为误差已经取过均值，梯度不用再做平均\n",
    "            l_sum += l.asscalar() * y.size\n",
    "            n += y.size\n",
    "\n",
    "        if (epoch + 1) % pred_period == 0:\n",
    "            print('epoch %d, perplexity %f, time %.2f sec' % (\n",
    "                epoch + 1, math.exp(l_sum / n), time.time() - start))\n",
    "            for prefix in prefixes:\n",
    "                print(' -', predict_rnn(\n",
    "                    prefix, pred_len, rnn, params, init_rnn_state,\n",
    "                    num_hiddens, vocab_size, ctx, idx_to_char, char_to_idx))"
   ]
  },
  {
   "cell_type": "code",
   "execution_count": 27,
   "metadata": {},
   "outputs": [],
   "source": [
    "num_epochs, num_steps, batch_size, lr, clipping_theta = 250, 35, 32, 1e2, 1e-2\n",
    "pred_period, pred_len, prefixes = 50, 50, ['分开', '不分开']"
   ]
  },
  {
   "cell_type": "code",
   "execution_count": 28,
   "metadata": {},
   "outputs": [
    {
     "name": "stdout",
     "output_type": "stream",
     "text": [
      "epoch 50, perplexity 83.970037, time 0.47 sec\n",
      " - 分开 我想的让我疯狂  爱想的 你不是 我爱你你 你不的 我不你你 你你的 我不你你不 我不你你 你不的\n",
      " - 不分开 我想的 你不是 我说的 你不你 你说的 我不你你 你你的 我不你你不 我不你你 你不的 我不你你 \n",
      "epoch 100, perplexity 15.993566, time 0.46 sec\n",
      " - 分开 我想你这爱  不知话不 我不好努 你你的带 我 想和你的 我不要再想 我不 我不 我不 我不 我不\n",
      " - 不分开 我想你这不  不知后觉 你该好美 是谁在练 是不定带 你你想 我不 我不 我不 我不 我不 我不 \n",
      "epoch 150, perplexity 4.427812, time 0.46 sec\n",
      " - 分开 我想就够样牵着  这想你的 我想要将我的寂对 消失说 旧皮我 没想大声 沙故的 告想我都不经袋 说\n",
      " - 不分开 我想动这样牵 我以都神到  也悔着对不 我不要再想 我不要再想 我不 我不 我不要 爱情走的太快就\n",
      "epoch 200, perplexity 2.140519, time 0.52 sec\n",
      " - 分开 我想就够样牵着你的手不放开 爱可不可以简简单单没有伤想 你满就风诅 别窝在 小弄堂 装满了明信片的\n",
      " - 不分开 快只两颗担忧 唱着歌 一直走 我想就这样牵着你的手不放开 爱可不可以简简单单没有伤想 你满就风诅 \n",
      "epoch 250, perplexity 1.655229, time 0.47 sec\n",
      " - 分开落 时伤得很隐密 它在许愿池里轻轻叹息 太多的我爱你 让它喘不过气 不经 失去意义 戒指在哭泣 静静\n",
      " - 不分开初 你一子到 你 想上你骑睡车 想要下 说 我 开在                        \n"
     ]
    }
   ],
   "source": [
    "train_and_predict_rnn(rnn, get_params, init_rnn_state, num_hiddens,\n",
    "                      vocab_size, ctx, corpus_indices, idx_to_char,\n",
    "                      char_to_idx, True, num_epochs, num_steps, lr,\n",
    "                      clipping_theta, batch_size, pred_period, pred_len,\n",
    "                      prefixes)"
   ]
  },
  {
   "cell_type": "code",
   "execution_count": 71,
   "metadata": {},
   "outputs": [
    {
     "name": "stdout",
     "output_type": "stream",
     "text": [
      "epoch 50, perplexity 63.521017, time 0.31 sec\n",
      " - 分开 我不能这样 三色人  我已了这 你谁一空 你 一直 我想定你 你有一空 你谁一空 你 一直 我想定\n",
      " - 不分开 我想我这样 谁不人   我的外 你天了空 你谁了空 你谁一空 你 一直 你 一场我 别你的 娘颗我\n",
      "epoch 100, perplexity 8.488997, time 0.31 sec\n",
      " - 分开 娘子 是谁B 后想走 干什么 旧想开 旧满了 我想店这样 三两 什不 你的 我感动 想爱走人 如过\n",
      " - 不分开 我想能会呵 三两银够不够 景色入秋 漫天黄沙截记 哼哼哈兮 快使用双截记 哼哼哈兮 快使用双截记 \n",
      "epoch 150, perplexity 2.373217, time 0.31 sec\n",
      " - 分开 什么我 谁是神枪手久白墙我叫泪一声 我说定很天的黑样 古会什么我想要 却发凶迷了直到我 也物我的在\n",
      " - 不分开只 你已经 开怎么 什么都有 周杰事 的片段 时一些风霜 老唱盘 旧皮箱 装属了明信片的铁盒里藏著一\n",
      "epoch 200, perplexity 1.621490, time 0.31 sec\n",
      " - 分开 她养的黑猫笑起来像哭 啦啦啦呜 用水晶球替人占卜 她说下午三点阳光射道 就是那么简单几句 我办不到\n",
      " - 不分开觉 我已那离 小小不外的溪边 情绪激动 一颗心到现在还在抽痛 还为分手前那句抱歉 在感动 穿梭时间的\n",
      "epoch 250, perplexity 1.323210, time 0.31 sec\n",
      " - 分开 问养我 谁是神枪手 巫师 他念念 有词的 对酋长下诅咒 还我骷髅头 这故事 告诉我 印地安的传说 \n",
      " - 不分开觉 你已经离开我 不知不觉 我跟了这节奏 后知后觉 又过了一个秋 后知后觉 我该好好生活 我该好好生\n"
     ]
    }
   ],
   "source": [
    "train_and_predict_rnn(rnn, get_params, init_rnn_state, num_hiddens,\n",
    "                      vocab_size, ctx, corpus_indices, idx_to_char,\n",
    "                      char_to_idx, False, num_epochs, num_steps, lr,\n",
    "                      clipping_theta, batch_size, pred_period, pred_len,\n",
    "                      prefixes)"
   ]
  },
  {
   "cell_type": "code",
   "execution_count": 29,
   "metadata": {},
   "outputs": [
    {
     "name": "stdout",
     "output_type": "stream",
     "text": [
      "epoch 50, perplexity 87.366536, time 0.47 sec\n",
      " - 分开 我感动  爱场人                                         \n",
      " - 不分开  你    我                                          \n",
      "epoch 100, perplexity 15.058095, time 0.47 sec\n",
      " - 分开 娘子却到不江南等我 泪著你其语背久定永现一到 一情上 干什么 干什么 干你我 说你我 说你怎么不球\n",
      " - 不分开 说要上这 我不已乡我的你我的双道 我不在在过 我将无伊斯写 唱彻不 一皮走 一颗两颗三颗四颗 连成\n",
      "epoch 150, perplexity 3.452952, time 0.47 sec\n",
      " - 分开 娘子却人在每日 我一枝杨柳 你在那里 在小村外的溪边河口默默等著我 娘子一口每著 像这念愿国坦 闪\n",
      " - 不分开 说你的爹娘不擅 从才方向 如果这一切 白色人烛 我该经一个我 选你线进球 单手过人运球 篮下里传出\n",
      "epoch 200, perplexity 1.703367, time 0.47 sec\n",
      " - 分开的在会 干什么这个人 还的话一球我 抛物线进球 单手过人运球 篮下妙传著手 快攻的篮板人 得分了最原\n",
      " - 不分开 说么兵器最喜欢 双截棍柔中带刚 想要去河南嵩山 学少林跟武当 快使用双截棍 哼哼哈兮 如果用有切功\n",
      "epoch 250, perplexity 1.274664, time 0.49 sec\n",
      " - 分开的在打 还真得一城堡 它爱拥有的只剩下回忆 相爱还有别离 像无法被安排的雨 随时准备来袭 我怀念起国\n",
      " - 不分开 说是我较样打我妈妈 我说的话你甘会听 不要再这样打我妈妈 难道你手不会痛吗 其实我回家就想要阻止一\n"
     ]
    }
   ],
   "source": [
    "train_and_predict_rnn(rnn, get_params, init_rnn_state, num_hiddens,\n",
    "                      vocab_size, ctx, corpus_indices, idx_to_char,\n",
    "                      char_to_idx, False, num_epochs, num_steps, lr,\n",
    "                      clipping_theta, batch_size, pred_period, pred_len,\n",
    "                      prefixes)"
   ]
  },
  {
   "cell_type": "code",
   "execution_count": null,
   "metadata": {},
   "outputs": [],
   "source": []
  },
  {
   "cell_type": "code",
   "execution_count": null,
   "metadata": {},
   "outputs": [],
   "source": []
  }
 ],
 "metadata": {
  "kernelspec": {
   "display_name": "Python 3",
   "language": "python",
   "name": "python3"
  },
  "language_info": {
   "codemirror_mode": {
    "name": "ipython",
    "version": 3
   },
   "file_extension": ".py",
   "mimetype": "text/x-python",
   "name": "python",
   "nbconvert_exporter": "python",
   "pygments_lexer": "ipython3",
   "version": "3.6.10"
  }
 },
 "nbformat": 4,
 "nbformat_minor": 4
}
