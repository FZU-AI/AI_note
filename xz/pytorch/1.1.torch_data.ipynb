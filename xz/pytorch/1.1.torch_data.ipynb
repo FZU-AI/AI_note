{
 "cells": [
  {
   "cell_type": "code",
   "execution_count": 1,
   "metadata": {},
   "outputs": [],
   "source": [
    "import torch"
   ]
  },
  {
   "cell_type": "code",
   "execution_count": 3,
   "metadata": {},
   "outputs": [
    {
     "data": {
      "text/plain": [
       "True"
      ]
     },
     "execution_count": 3,
     "metadata": {},
     "output_type": "execute_result"
    }
   ],
   "source": [
    "torch.cuda.is_available()"
   ]
  },
  {
   "cell_type": "code",
   "execution_count": 4,
   "metadata": {},
   "outputs": [
    {
     "name": "stdout",
     "output_type": "stream",
     "text": [
      "tensor([[1.6880e+25, 2.5226e-18, 6.6645e-10],\n",
      "        [4.1575e+21, 1.3294e-08, 2.0773e+20],\n",
      "        [1.6536e-04, 1.0016e-11, 8.3391e-10],\n",
      "        [2.1029e+20, 2.0314e+20, 3.1369e+27],\n",
      "        [7.0800e+31, 3.1095e-18, 1.8590e+34]])\n"
     ]
    }
   ],
   "source": [
    "# 未初始化的矩阵\n",
    "# 里面的值是不确定的\n",
    "x = torch.empty(5,3)\n",
    "print(x)"
   ]
  },
  {
   "cell_type": "code",
   "execution_count": 5,
   "metadata": {},
   "outputs": [
    {
     "data": {
      "text/plain": [
       "tensor([[0.3129, 0.8714, 0.8079],\n",
       "        [0.4722, 0.3522, 0.3068],\n",
       "        [0.9920, 0.0171, 0.6463],\n",
       "        [0.1151, 0.7443, 0.1300],\n",
       "        [0.2816, 0.7904, 0.1833]])"
      ]
     },
     "execution_count": 5,
     "metadata": {},
     "output_type": "execute_result"
    }
   ],
   "source": [
    "# 构造随机初始化的矩阵\n",
    "x = torch.rand(5,3)\n",
    "x"
   ]
  },
  {
   "cell_type": "code",
   "execution_count": 6,
   "metadata": {},
   "outputs": [
    {
     "data": {
      "text/plain": [
       "tensor([[0, 0, 0],\n",
       "        [0, 0, 0],\n",
       "        [0, 0, 0],\n",
       "        [0, 0, 0],\n",
       "        [0, 0, 0]])"
      ]
     },
     "execution_count": 6,
     "metadata": {},
     "output_type": "execute_result"
    }
   ],
   "source": [
    "# 构造一个填充0，且数据类型dtype为long的矩阵\n",
    "x = torch.zeros(5, 3, dtype=torch.long)\n",
    "x"
   ]
  },
  {
   "cell_type": "code",
   "execution_count": 8,
   "metadata": {},
   "outputs": [
    {
     "data": {
      "text/plain": [
       "tensor([5.5000, 3.0000])"
      ]
     },
     "execution_count": 8,
     "metadata": {},
     "output_type": "execute_result"
    }
   ],
   "source": [
    "#  将数组转换从tensor张量\n",
    "x = torch.tensor([5.5, 3])\n",
    "x"
   ]
  },
  {
   "cell_type": "code",
   "execution_count": 9,
   "metadata": {},
   "outputs": [
    {
     "name": "stdout",
     "output_type": "stream",
     "text": [
      "tensor([[1., 1., 1.],\n",
      "        [1., 1., 1.],\n",
      "        [1., 1., 1.],\n",
      "        [1., 1., 1.],\n",
      "        [1., 1., 1.]], dtype=torch.float64)\n"
     ]
    }
   ],
   "source": [
    "# 拷贝一个值\n",
    "x = x.new_ones(5, 3, dtype=torch.double)      # new_* methods take in sizes\n",
    "print(x)"
   ]
  },
  {
   "cell_type": "code",
   "execution_count": 11,
   "metadata": {},
   "outputs": [
    {
     "name": "stdout",
     "output_type": "stream",
     "text": [
      "tensor([[0.1310, 0.8429, 0.9671],\n",
      "        [0.4961, 0.4118, 0.5708],\n",
      "        [0.9019, 0.1656, 0.9630],\n",
      "        [0.1138, 0.5194, 0.2060],\n",
      "        [0.0544, 0.8853, 0.4521]])\n"
     ]
    }
   ],
   "source": [
    "# 拷贝形状，并随机赋值-1到1之间\n",
    "x = torch.randn_like(x, dtype=torch.float)    # override dtype!\n",
    "print(x)                                      # result has the same size"
   ]
  },
  {
   "cell_type": "code",
   "execution_count": 12,
   "metadata": {},
   "outputs": [
    {
     "name": "stdout",
     "output_type": "stream",
     "text": [
      "tensor([[0.2949, 0.5003, 0.8243],\n",
      "        [0.0197, 0.8175, 0.7986],\n",
      "        [0.2791, 0.1747, 0.9388],\n",
      "        [0.6410, 0.7757, 0.9517],\n",
      "        [0.5885, 0.8757, 0.0301]])\n"
     ]
    }
   ],
   "source": [
    "# 拷贝形状，并随机赋值0到1之间\n",
    "x = torch.rand_like(x, dtype=torch.float)    # override dtype!\n",
    "print(x)                                      # result has the same size"
   ]
  },
  {
   "cell_type": "code",
   "execution_count": 13,
   "metadata": {},
   "outputs": [
    {
     "name": "stdout",
     "output_type": "stream",
     "text": [
      "torch.Size([5, 3])\n"
     ]
    }
   ],
   "source": [
    "# 获取矩阵大小\n",
    "print(x.size())"
   ]
  },
  {
   "cell_type": "code",
   "execution_count": 14,
   "metadata": {},
   "outputs": [
    {
     "name": "stdout",
     "output_type": "stream",
     "text": [
      "tensor([[0.8205, 1.1127, 0.9667],\n",
      "        [1.0123, 1.6212, 1.7500],\n",
      "        [0.7720, 0.5131, 1.8308],\n",
      "        [1.1216, 1.0681, 1.8199],\n",
      "        [1.4038, 1.3346, 0.7781]])\n",
      "tensor([[0.8205, 1.1127, 0.9667],\n",
      "        [1.0123, 1.6212, 1.7500],\n",
      "        [0.7720, 0.5131, 1.8308],\n",
      "        [1.1216, 1.0681, 1.8199],\n",
      "        [1.4038, 1.3346, 0.7781]])\n"
     ]
    }
   ],
   "source": [
    "# 加法一，会生成新变量\n",
    "y = torch.rand(5, 3)\n",
    "print(x + y)\n",
    "# 加法二，会生成新变量\n",
    "print(torch.add(x, y))"
   ]
  },
  {
   "cell_type": "code",
   "execution_count": 15,
   "metadata": {},
   "outputs": [
    {
     "name": "stdout",
     "output_type": "stream",
     "text": [
      "tensor([[0.8205, 1.1127, 0.9667],\n",
      "        [1.0123, 1.6212, 1.7500],\n",
      "        [0.7720, 0.5131, 1.8308],\n",
      "        [1.1216, 1.0681, 1.8199],\n",
      "        [1.4038, 1.3346, 0.7781]])\n"
     ]
    }
   ],
   "source": [
    "# 加法三，设定指定的变量result为输出\n",
    "result = torch.empty(5, 3)\n",
    "torch.add(x, y, out=result)\n",
    "print(result)"
   ]
  },
  {
   "cell_type": "code",
   "execution_count": 16,
   "metadata": {},
   "outputs": [
    {
     "name": "stdout",
     "output_type": "stream",
     "text": [
      "tensor([[0.8205, 1.1127, 0.9667],\n",
      "        [1.0123, 1.6212, 1.7500],\n",
      "        [0.7720, 0.5131, 1.8308],\n",
      "        [1.1216, 1.0681, 1.8199],\n",
      "        [1.4038, 1.3346, 0.7781]])\n"
     ]
    }
   ],
   "source": [
    "# 加法四：就地加法，不会生成新变量，但会改变其中一个参数\n",
    "y.add_(x)\n",
    "print(y)"
   ]
  },
  {
   "cell_type": "code",
   "execution_count": 17,
   "metadata": {},
   "outputs": [
    {
     "data": {
      "text/plain": [
       "tensor([[0.8205, 1.0123, 0.7720, 1.1216, 1.4038],\n",
       "        [1.1127, 1.6212, 0.5131, 1.0681, 1.3346],\n",
       "        [0.9667, 1.7500, 1.8308, 1.8199, 0.7781]])"
      ]
     },
     "execution_count": 17,
     "metadata": {},
     "output_type": "execute_result"
    }
   ],
   "source": [
    "# 转置矩阵\n",
    "y.t_()"
   ]
  },
  {
   "cell_type": "code",
   "execution_count": 19,
   "metadata": {},
   "outputs": [
    {
     "data": {
      "text/plain": [
       "tensor([[0.8205, 1.1127, 0.9667],\n",
       "        [1.0123, 1.6212, 1.7500],\n",
       "        [0.7720, 0.5131, 1.8308],\n",
       "        [1.1216, 1.0681, 1.8199],\n",
       "        [1.4038, 1.3346, 0.7781]])"
      ]
     },
     "execution_count": 19,
     "metadata": {},
     "output_type": "execute_result"
    }
   ],
   "source": [
    "# 拷贝\n",
    "x.copy_(y.t_())\n",
    "# 任何使得张量发生变化的操作都需要添加下划线_"
   ]
  },
  {
   "cell_type": "code",
   "execution_count": 20,
   "metadata": {},
   "outputs": [
    {
     "name": "stdout",
     "output_type": "stream",
     "text": [
      "tensor([1.1127, 1.6212, 0.5131, 1.0681, 1.3346])\n"
     ]
    }
   ],
   "source": [
    "# 输出所有列，第1行\n",
    "print(x[:, 1])"
   ]
  },
  {
   "cell_type": "code",
   "execution_count": 22,
   "metadata": {},
   "outputs": [
    {
     "name": "stdout",
     "output_type": "stream",
     "text": [
      "torch.Size([4, 4]) torch.Size([16]) torch.Size([2, 8])\n"
     ]
    }
   ],
   "source": [
    "# 通过view改变形状\n",
    "x = torch.randn(4, 4)\n",
    "y = x.view(16)\n",
    "z = x.view(-1, 8)  # -1表示根据其他维度来推断\n",
    "print(x.size(), y.size(), z.size())"
   ]
  },
  {
   "cell_type": "code",
   "execution_count": 23,
   "metadata": {},
   "outputs": [
    {
     "name": "stdout",
     "output_type": "stream",
     "text": [
      "tensor([1.2919])\n",
      "1.291871190071106\n"
     ]
    }
   ],
   "source": [
    "# 张量转化为数字\n",
    "x = torch.randn(1)\n",
    "print(x)\n",
    "print(x.item())"
   ]
  },
  {
   "cell_type": "code",
   "execution_count": 25,
   "metadata": {},
   "outputs": [
    {
     "name": "stdout",
     "output_type": "stream",
     "text": [
      "tensor([1., 1., 1., 1., 1.])\n",
      "[1. 1. 1. 1. 1.]\n",
      "tensor([2., 2., 2., 2., 2.])\n",
      "[2. 2. 2. 2. 2.]\n"
     ]
    }
   ],
   "source": [
    "# torch转NumPy\n",
    "#  两个变量共享内存\n",
    "a = torch.ones(5)\n",
    "print(a)\n",
    "b = a.numpy()\n",
    "print(b)\n",
    "a.add_(1)\n",
    "print(a)\n",
    "print(b)"
   ]
  },
  {
   "cell_type": "code",
   "execution_count": 26,
   "metadata": {},
   "outputs": [
    {
     "name": "stdout",
     "output_type": "stream",
     "text": [
      "[2. 2. 2. 2. 2.]\n",
      "tensor([2., 2., 2., 2., 2.], dtype=torch.float64)\n"
     ]
    }
   ],
   "source": [
    "# NumPy转torch\n",
    "# 自动转化\n",
    "import numpy as np\n",
    "a = np.ones(5)\n",
    "b = torch.from_numpy(a)\n",
    "np.add(a, 1, out=a)\n",
    "print(a)\n",
    "print(b)\n",
    "# CharTensor不支持转化为NumPy"
   ]
  },
  {
   "cell_type": "code",
   "execution_count": 27,
   "metadata": {},
   "outputs": [
    {
     "name": "stdout",
     "output_type": "stream",
     "text": [
      "tensor([1.1416, 2.4353], device='cuda:0')\n",
      "tensor([1.1416, 2.4353], dtype=torch.float64)\n"
     ]
    }
   ],
   "source": [
    "# 以下代码只有在PyTorch GPU版本上才会执行\n",
    "if torch.cuda.is_available():\n",
    "    device = torch.device(\"cuda\")          # GPU\n",
    "    y = torch.ones_like(x, device=device)  # 直接创建一个在GPU上的Tensor\n",
    "    x = x.to(device)                       # 改变环境，等价于 .to(\"cuda\")\n",
    "    z = x + y\n",
    "    print(z)\n",
    "    print(z.to(\"cpu\", torch.double))       # to()还可以同时更改数据类型"
   ]
  },
  {
   "cell_type": "code",
   "execution_count": 28,
   "metadata": {},
   "outputs": [
    {
     "name": "stdout",
     "output_type": "stream",
     "text": [
      "tensor([1., 1.], device='cuda:0')\n"
     ]
    }
   ],
   "source": [
    "print(y)"
   ]
  },
  {
   "cell_type": "code",
   "execution_count": null,
   "metadata": {},
   "outputs": [],
   "source": []
  }
 ],
 "metadata": {
  "kernelspec": {
   "display_name": "Python 3",
   "language": "python",
   "name": "python3"
  },
  "language_info": {
   "codemirror_mode": {
    "name": "ipython",
    "version": 3
   },
   "file_extension": ".py",
   "mimetype": "text/x-python",
   "name": "python",
   "nbconvert_exporter": "python",
   "pygments_lexer": "ipython3",
   "version": "3.7.6"
  }
 },
 "nbformat": 4,
 "nbformat_minor": 4
}
