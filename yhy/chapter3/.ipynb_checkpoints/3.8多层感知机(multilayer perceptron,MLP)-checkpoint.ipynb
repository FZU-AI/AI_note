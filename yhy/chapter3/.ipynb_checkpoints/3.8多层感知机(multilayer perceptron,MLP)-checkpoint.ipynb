{
 "cells": [
  {
   "cell_type": "markdown",
   "metadata": {},
   "source": [
    "## 3.8.1 隐藏层\n",
    "- 单层感知机在单层神经网络的基础上引入了一到多个隐藏层(hidden layer),一个隐藏层又有多个隐藏单元(hidden unit)，图中所示即1个隐藏层，该隐藏层中有5个隐藏单元\n",
    "![1](../image/3.8_1.png)\n",
    "- 通过公式的推倒，我们可以知道，虽然加了隐藏层，但是模型依旧是线性的，因此这样的多层神经网络其实和单层是一样的。"
   ]
  },
  {
   "cell_type": "markdown",
   "metadata": {},
   "source": [
    "## 3.8.2 激活函数\n",
    "- 激活函数引入了非线性变换\n",
    "- 常用的激活函数：\n",
    "    - ReLU(Rectified Linear Unit):ReLU(x) = max(x,0)\n",
    "    ![2](../image/3.8_2.png)\n",
    "    ![3](../image/3.8_3.png)\n",
    "    - Sigmod:sigmod(x) = 1 / 1 + exp(-x)\n",
    "    ![4](../image/3.8_4.png)\n",
    "    ![5](../image/3.8_5.png)\n",
    "    - tanh（双曲正切: tanh(x) = 1 - exp(-2x) / 1 + exp(-2x)\n",
    "    ![6](../image/3.8_6.png)\n",
    "    ![7](../image/3.8_7.png)"
   ]
  },
  {
   "cell_type": "markdown",
   "metadata": {},
   "source": [
    "## 3.8.3 多层感知机\n",
    "- Wh 是输入层到隐藏层之间的权重， Wo 是隐藏层到输出层之间的权重，隐藏层会使用激活函数激活成非线性\n",
    "![8](../image/3.8_8.png)"
   ]
  }
 ],
 "metadata": {
  "kernelspec": {
   "display_name": "Python 3",
   "language": "python",
   "name": "python3"
  },
  "language_info": {
   "codemirror_mode": {
    "name": "ipython",
    "version": 3
   },
   "file_extension": ".py",
   "mimetype": "text/x-python",
   "name": "python",
   "nbconvert_exporter": "python",
   "pygments_lexer": "ipython3",
   "version": "3.6.10"
  }
 },
 "nbformat": 4,
 "nbformat_minor": 4
}
