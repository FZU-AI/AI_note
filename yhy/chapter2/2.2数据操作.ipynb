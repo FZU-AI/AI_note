{
 "cells": [
  {
   "cell_type": "code",
   "execution_count": 4,
   "metadata": {},
   "outputs": [],
   "source": [
    "from mxnet import nd"
   ]
  },
  {
   "cell_type": "markdown",
   "metadata": {},
   "source": [
    "# 创建NDArray"
   ]
  },
  {
   "cell_type": "code",
   "execution_count": 5,
   "metadata": {},
   "outputs": [
    {
     "data": {
      "text/plain": [
       "\n",
       "[ 0.  1.  2.  3.  4.  5.  6.  7.  8.  9. 10. 11.]\n",
       "<NDArray 12 @cpu(0)>"
      ]
     },
     "execution_count": 5,
     "metadata": {},
     "output_type": "execute_result"
    }
   ],
   "source": [
    "# 新建一个长度为12的数组，@cpu的意思是，被创建在CPU使用的内存上\n",
    "# nd.arange这个方法，只能创建一维数组\n",
    "X = nd.arange(12)\n",
    "X"
   ]
  },
  {
   "cell_type": "code",
   "execution_count": 6,
   "metadata": {},
   "outputs": [
    {
     "data": {
      "text/plain": [
       "(12,)"
      ]
     },
     "execution_count": 6,
     "metadata": {},
     "output_type": "execute_result"
    }
   ],
   "source": [
    "# shape属性能够获取NDArray的形状\n",
    "#(12,)说明他是一维数组\n",
    "X.shape\n"
   ]
  },
  {
   "cell_type": "code",
   "execution_count": 7,
   "metadata": {},
   "outputs": [
    {
     "data": {
      "text/plain": [
       "12"
      ]
     },
     "execution_count": 7,
     "metadata": {},
     "output_type": "execute_result"
    }
   ],
   "source": [
    "# 获得实例的总个数\n",
    "X.size"
   ]
  },
  {
   "cell_type": "code",
   "execution_count": 8,
   "metadata": {},
   "outputs": [
    {
     "data": {
      "text/plain": [
       "\n",
       "[[ 0.  1.  2.  3.]\n",
       " [ 4.  5.  6.  7.]\n",
       " [ 8.  9. 10. 11.]]\n",
       "<NDArray 3x4 @cpu(0)>"
      ]
     },
     "execution_count": 8,
     "metadata": {},
     "output_type": "execute_result"
    }
   ],
   "source": [
    "# reshape方法，可以改变ndarray的形状，也就是维度\n",
    "X = X.reshape(3,4)\n",
    "X"
   ]
  },
  {
   "cell_type": "code",
   "execution_count": 9,
   "metadata": {},
   "outputs": [
    {
     "data": {
      "text/plain": [
       "\n",
       "[[[0. 0. 0. 0.]\n",
       "  [0. 0. 0. 0.]\n",
       "  [0. 0. 0. 0.]]\n",
       "\n",
       " [[0. 0. 0. 0.]\n",
       "  [0. 0. 0. 0.]\n",
       "  [0. 0. 0. 0.]]]\n",
       "<NDArray 2x3x4 @cpu(0)>"
      ]
     },
     "execution_count": 9,
     "metadata": {},
     "output_type": "execute_result"
    }
   ],
   "source": [
    "# 这里要注意的是，zeros这个方法的参数是一个tuple，返回值是list\n",
    "nd.zeros((2,3,4))"
   ]
  },
  {
   "cell_type": "code",
   "execution_count": 10,
   "metadata": {},
   "outputs": [
    {
     "data": {
      "text/plain": [
       "\n",
       "[[1. 1. 1. 1.]\n",
       " [1. 1. 1. 1.]\n",
       " [1. 1. 1. 1.]]\n",
       "<NDArray 3x4 @cpu(0)>"
      ]
     },
     "execution_count": 10,
     "metadata": {},
     "output_type": "execute_result"
    }
   ],
   "source": [
    "# 用法与zeros一样\n",
    "nd.ones((3,4))"
   ]
  },
  {
   "cell_type": "code",
   "execution_count": 11,
   "metadata": {},
   "outputs": [
    {
     "data": {
      "text/plain": [
       "\n",
       "[[2. 1. 4. 3.]\n",
       " [1. 2. 3. 4.]\n",
       " [4. 3. 2. 1.]]\n",
       "<NDArray 3x4 @cpu(0)>"
      ]
     },
     "execution_count": 11,
     "metadata": {},
     "output_type": "execute_result"
    }
   ],
   "source": [
    "# 用nd.array创建多维数组\n",
    "Y = nd.array([\n",
    "    [2,1,4,3],\n",
    "    [1,2,3,4],\n",
    "    [4,3,2,1],\n",
    "])\n",
    "Y"
   ]
  },
  {
   "cell_type": "code",
   "execution_count": 12,
   "metadata": {},
   "outputs": [
    {
     "data": {
      "text/plain": [
       "\n",
       "[[ 2.2122064   0.7740038   1.0434403   1.1839255 ]\n",
       " [ 1.8917114  -1.2347414  -1.771029   -0.45138445]\n",
       " [ 0.57938355 -1.856082   -1.9768796  -0.20801921]]\n",
       "<NDArray 3x4 @cpu(0)>"
      ]
     },
     "execution_count": 12,
     "metadata": {},
     "output_type": "execute_result"
    }
   ],
   "source": [
    "# 随机生成一个数组 ,它的每个元素都随机采样于均值为0、标准差为1的正态分布\n",
    "nd.random.normal(0,1,shape=(3,4))"
   ]
  },
  {
   "cell_type": "markdown",
   "metadata": {},
   "source": [
    "# 运算\n",
    "- X = [[ 0.  1.  2.  3.]\n",
    "       [ 4.  5.  6.  7.]\n",
    "       [ 8.  9. 10. 11.]]\n",
    "- Y = [[2. 1. 4. 3.]\n",
    "       [1. 2. 3. 4.]\n",
    "       [4. 3. 2. 1.]]"
   ]
  },
  {
   "cell_type": "code",
   "execution_count": 13,
   "metadata": {},
   "outputs": [
    {
     "data": {
      "text/plain": [
       "\n",
       "[[ 2.  2.  6.  6.]\n",
       " [ 5.  7.  9. 11.]\n",
       " [12. 12. 12. 12.]]\n",
       "<NDArray 3x4 @cpu(0)>"
      ]
     },
     "execution_count": 13,
     "metadata": {},
     "output_type": "execute_result"
    }
   ],
   "source": [
    "# 加法\n",
    "X + Y"
   ]
  },
  {
   "cell_type": "code",
   "execution_count": 14,
   "metadata": {},
   "outputs": [
    {
     "data": {
      "text/plain": [
       "\n",
       "[[ 0.  1.  8.  9.]\n",
       " [ 4. 10. 18. 28.]\n",
       " [32. 27. 20. 11.]]\n",
       "<NDArray 3x4 @cpu(0)>"
      ]
     },
     "execution_count": 14,
     "metadata": {},
     "output_type": "execute_result"
    }
   ],
   "source": [
    "# 乘法,与矩阵中的乘法不同，这里只是对应元素相乘而已\n",
    "# 想要像矩阵里面一样相乘，需要用dot方法\n",
    "X * Y"
   ]
  },
  {
   "cell_type": "code",
   "execution_count": 15,
   "metadata": {},
   "outputs": [
    {
     "data": {
      "text/plain": [
       "\n",
       "[[ 0.    1.    0.5   1.  ]\n",
       " [ 4.    2.5   2.    1.75]\n",
       " [ 2.    3.    5.   11.  ]]\n",
       "<NDArray 3x4 @cpu(0)>"
      ]
     },
     "execution_count": 15,
     "metadata": {},
     "output_type": "execute_result"
    }
   ],
   "source": [
    "# 除法，规则是对应元素相除，如果分母是0,则显示inf(infinity无穷的意思)\n",
    "X / Y"
   ]
  },
  {
   "cell_type": "code",
   "execution_count": 17,
   "metadata": {},
   "outputs": [
    {
     "data": {
      "text/plain": [
       "\n",
       "[[ 7.389056   2.7182817 54.59815   20.085537 ]\n",
       " [ 2.7182817  7.389056  20.085537  54.59815  ]\n",
       " [54.59815   20.085537   7.389056   2.7182817]]\n",
       "<NDArray 3x4 @cpu(0)>"
      ]
     },
     "execution_count": 17,
     "metadata": {},
     "output_type": "execute_result"
    }
   ],
   "source": [
    "# 指数运算,规则是e^xxx\n",
    "Y.exp()"
   ]
  },
  {
   "cell_type": "code",
   "execution_count": 20,
   "metadata": {},
   "outputs": [
    {
     "data": {
      "text/plain": [
       "\n",
       "[[36. 32. 28. 24.]\n",
       " [43. 38. 37. 32.]\n",
       " [50. 44. 46. 40.]\n",
       " [57. 50. 55. 48.]]\n",
       "<NDArray 4x4 @cpu(0)>"
      ]
     },
     "execution_count": 20,
     "metadata": {},
     "output_type": "execute_result"
    }
   ],
   "source": [
    "# 矩阵的乘法nd.dot\n",
    "# 因为X是3×4,Y也是3×4,根据矩阵相乘的规则，X和Y是不能相乘的，因此要将Y或者X转置才行\n",
    "nd.dot(X,Y.T)\n",
    "nd.dot(X.T,Y)"
   ]
  },
  {
   "cell_type": "code",
   "execution_count": 25,
   "metadata": {},
   "outputs": [
    {
     "data": {
      "text/plain": [
       "(\n",
       " [[ 0.  1.  2.  3.]\n",
       "  [ 4.  5.  6.  7.]\n",
       "  [ 8.  9. 10. 11.]\n",
       "  [ 2.  1.  4.  3.]\n",
       "  [ 1.  2.  3.  4.]\n",
       "  [ 4.  3.  2.  1.]]\n",
       " <NDArray 6x4 @cpu(0)>,\n",
       " \n",
       " [[ 0.  1.  2.  3.  2.  1.  4.  3.]\n",
       "  [ 4.  5.  6.  7.  1.  2.  3.  4.]\n",
       "  [ 8.  9. 10. 11.  4.  3.  2.  1.]]\n",
       " <NDArray 3x8 @cpu(0)>)"
      ]
     },
     "execution_count": 25,
     "metadata": {},
     "output_type": "execute_result"
    }
   ],
   "source": [
    "# concat方法，将两个矩阵连起来，横着竖着都可以，前提是两个矩阵的行或者列相同\n",
    "# dim = 0 是竖着拼\n",
    "nd.concat(X, Y, dim = 0),nd.concat(X, Y, dim = 1)\n",
    "\n",
    "# dim = 1 是横着拼"
   ]
  },
  {
   "cell_type": "code",
   "execution_count": 34,
   "metadata": {},
   "outputs": [
    {
     "data": {
      "text/plain": [
       "'\\nZ = nd.array(\\n    [\\n        [1,2,3,4],\\n        [5,6,7,8],\\n    ]\\n)\\nX == Z 运行这一样是会报错的，这里一定要保证两个比较的矩阵的行列都相同\\n'"
      ]
     },
     "execution_count": 34,
     "metadata": {},
     "output_type": "execute_result"
    }
   ],
   "source": [
    "# ==:判断两个矩阵的每个元素是否相同，返回一个矩阵，元素为1表示相同，为0表示不同\n",
    "\n",
    "X == Y\n",
    "\n",
    "'''\n",
    "Z = nd.array(\n",
    "    [\n",
    "        [1,2,3,4],\n",
    "        [5,6,7,8],\n",
    "    ]\n",
    ")\n",
    "X == Z 运行这一样是会报错的，这里一定要保证两个比较的矩阵的行列都相同\n",
    "'''"
   ]
  },
  {
   "cell_type": "code",
   "execution_count": 55,
   "metadata": {},
   "outputs": [
    {
     "data": {
      "text/plain": [
       "\n",
       "[66.]\n",
       "<NDArray 1 @cpu(0)>"
      ]
     },
     "execution_count": 55,
     "metadata": {},
     "output_type": "execute_result"
    }
   ],
   "source": [
    "# 求和函数sum，计算一个矩阵中所有元素的和\n",
    "X.sum()\n",
    "nd.sum(X)"
   ]
  },
  {
   "cell_type": "code",
   "execution_count": 54,
   "metadata": {},
   "outputs": [
    {
     "data": {
      "text/plain": [
       "12.0"
      ]
     },
     "execution_count": 54,
     "metadata": {},
     "output_type": "execute_result"
    }
   ],
   "source": [
    "'''\n",
    "    norm():it computes the L2 norm on the entire array\n",
    "    也就是说norm是用来算L2范数的。\n",
    "    科普一下什么是L0,L1，L2范数\n",
    "    L0范数：表示矩阵中非0元素的个数\n",
    "    L1范数：表示矩阵中元素与0之间的曼哈顿距离，也可以理解为所有元素的绝对值的和\n",
    "    L2范数：表示矩阵中元素与0之间的欧几里得距离，也就是所有元素的平方和的开平方\n",
    "    还有个LP范数，没看懂，作用是：控制模型复杂度减少过拟合，一般在损失函数中加入惩罚项。\n",
    "    X = [ 0. 1. 2. 3.]\n",
    "        [ 4. 5. 6. 7.]\n",
    "        [ 8. 9.10. 11.]\n",
    "    我们可以手动算一下X.norm   sqrt(0+1+4+9+16+25+36+49+64+81+100+121) = sqrt(506) = 22.494442跟答案一致\n",
    "    \n",
    "    asscalar():将ndarray转换成标量，并且矩阵只能是一维且只有单个元素的向量，其实就是把ndarray类型转换成标量，且向量只有1个元素\n",
    "    \n",
    "'''\n",
    "X.norm()\n",
    "X.norm().asscalar()\n",
    "a = nd.array(\n",
    "    [12]\n",
    ")\n",
    "a.asscalar()\n"
   ]
  },
  {
   "cell_type": "markdown",
   "metadata": {},
   "source": [
    "# 广播机制\n",
    "- 当两个形状不同的NDArray进行运算时，可能会给两个矩阵补成一样的形状\n"
   ]
  },
  {
   "cell_type": "code",
   "execution_count": 63,
   "metadata": {},
   "outputs": [
    {
     "data": {
      "text/plain": [
       "(\n",
       " [[0.]\n",
       "  [1.]\n",
       "  [2.]]\n",
       " <NDArray 3x1 @cpu(0)>,\n",
       " \n",
       " [[0. 1.]]\n",
       " <NDArray 1x2 @cpu(0)>)"
      ]
     },
     "execution_count": 63,
     "metadata": {},
     "output_type": "execute_result"
    }
   ],
   "source": [
    "A = nd.arange(3).reshape((3,1))\n",
    "B = nd.arange(2).reshape((1,2))\n",
    "A,B"
   ]
  },
  {
   "cell_type": "code",
   "execution_count": 71,
   "metadata": {},
   "outputs": [
    {
     "data": {
      "text/plain": [
       "'\\nC = nd.array([[0,1],[1,2]])\\nD = nd.array([[1,1,1]])\\nC + D 报错\\n将D 改为 D = nd.array([[1,1]]) ，正常！\\n'"
      ]
     },
     "execution_count": 71,
     "metadata": {},
     "output_type": "execute_result"
    }
   ],
   "source": [
    "'''\n",
    "那么如上的A，B显然不同行也不同列，对他们进行运算，会怎么样呢？？\n",
    "    答案是这个：   [[0. 1.]\n",
    "                 [1. 2.]\n",
    "                 [2. 3.]]\n",
    "通过逆向，我们可以得到  [0 0 ]    [0 1]      [0 1]\n",
    "                    [1 1]  +  [0 1]    = [1 2]\n",
    "                    [2 2]     [0 1]      [2 3]\n",
    "其实他就是用已知的行或者列复制以后凑成相同的矩阵规模\n",
    "\n",
    "如果是 [0 1]   +  [1, 1, 1]\n",
    "      [1 2]                  首先确定，最后的矩阵是3×2的\n",
    "      \n",
    "      [0 1 x]  + [1 1 1]\n",
    "      [1 2 x]    [1 1 1]\n",
    "      \n",
    "      x处应该是什么呢？ 运行发现报错了0 0，因此只有一行或者一列时才会触发广播，不然程序也不知道要复制哪一行或者列的\n",
    "      \n",
    "'''\n",
    "A + B\n",
    "'''\n",
    "C = nd.array([[0,1],[1,2]])\n",
    "D = nd.array([[1,1,1]])\n",
    "C + D 报错\n",
    "将D 改为 D = nd.array([[1,1]]) ，正常！\n",
    "'''"
   ]
  },
  {
   "cell_type": "markdown",
   "metadata": {},
   "source": [
    "# 索引\n",
    "- array[start:end]，注意是左闭右开，左边取得到，右边取不到\n",
    "-     X = [ 0. 1. 2. 3.]\n",
    "          [ 4. 5. 6. 7.]\n",
    "          [ 8. 9.10. 11.]"
   ]
  },
  {
   "cell_type": "code",
   "execution_count": 119,
   "metadata": {},
   "outputs": [
    {
     "data": {
      "text/plain": [
       "\n",
       "[[ 4. 18.]\n",
       " [22. 51.]]\n",
       "<NDArray 2x2 @cpu(0)>"
      ]
     },
     "execution_count": 119,
     "metadata": {},
     "output_type": "execute_result"
    }
   ],
   "source": [
    "# 截取行索引\n",
    "X[1:3]\n",
    "# 那么怎么截取列索引？？\n",
    "# 1.在截取行索引的情况下，2.再截取列索引\n",
    "# 这里我想截取整个矩阵的0,1列\n",
    "X[:,[0,2]]\n",
    "\n",
    "\n",
    "\n",
    "# 这里我想截取第0,1行的，0,1列\n",
    "# 1.截取0,1行\n",
    "p = X[0:2]\n",
    "# 2.截取0,1列\n",
    "q = p[:,[0,2]]\n",
    "\n",
    "# 简化一下\n",
    "X[0:2][:,[0,2]]\n"
   ]
  },
  {
   "cell_type": "code",
   "execution_count": 75,
   "metadata": {},
   "outputs": [
    {
     "data": {
      "text/plain": [
       "\n",
       "[[ 0.  1.  2.  3.]\n",
       " [ 4.  5.  9.  7.]\n",
       " [ 8.  9. 10. 11.]]\n",
       "<NDArray 3x4 @cpu(0)>"
      ]
     },
     "execution_count": 75,
     "metadata": {},
     "output_type": "execute_result"
    }
   ],
   "source": [
    "# 重新赋值\n",
    "# 将X矩阵的第1行，第2列置为9\n",
    "X[1,2] = 9\n",
    "X"
   ]
  },
  {
   "cell_type": "markdown",
   "metadata": {},
   "source": [
    "# 运算的内存开销\n",
    "- 我们可以通过id来查看，两个实例是不是指向同一块内存，如果是，则相等，否则不等"
   ]
  },
  {
   "cell_type": "code",
   "execution_count": 77,
   "metadata": {},
   "outputs": [
    {
     "data": {
      "text/plain": [
       "False"
      ]
     },
     "execution_count": 77,
     "metadata": {},
     "output_type": "execute_result"
    }
   ],
   "source": [
    "before = id(Y)\n",
    "Y = Y + X\n",
    "id(Y) == before\n",
    "# 这里就说明了，当执行加法时，重新开辟了一块内存给新的Y存放"
   ]
  },
  {
   "cell_type": "code",
   "execution_count": 86,
   "metadata": {},
   "outputs": [
    {
     "data": {
      "text/plain": [
       "True"
      ]
     },
     "execution_count": 86,
     "metadata": {},
     "output_type": "execute_result"
    }
   ],
   "source": [
    "Z = nd.zeros_like(Y) #创建与Y形状的相同，所有元素都为0的数组\n",
    "before = id(Z)\n",
    "\n",
    "'''\n",
    "Z[:] = X + Y 的实质其实是，Z原本放在内存A上，X + Y 的结果存到一块新内存B上，通过Z[:]这种方式，把B上的数据又重新放回到A上，\n",
    "其实还是有临时内存开销的\n",
    "'''\n",
    "Z[:] = X + Y\n",
    "id(Z) == before"
   ]
  },
  {
   "cell_type": "code",
   "execution_count": 88,
   "metadata": {},
   "outputs": [
    {
     "data": {
      "text/plain": [
       "True"
      ]
     },
     "execution_count": 88,
     "metadata": {},
     "output_type": "execute_result"
    }
   ],
   "source": [
    "# 想要避免使用临时内存开销的话，我们可以使用elemwise_add\n",
    "nd.elemwise_add(X, Y, out=Z)\n",
    "id(Z) == before"
   ]
  },
  {
   "cell_type": "code",
   "execution_count": 90,
   "metadata": {},
   "outputs": [
    {
     "data": {
      "text/plain": [
       "True"
      ]
     },
     "execution_count": 90,
     "metadata": {},
     "output_type": "execute_result"
    }
   ],
   "source": [
    "before = id(X)\n",
    "X += Y  # 这里X += Y  和 X[:] = X + Y 是一样的\n",
    "id(X) == before"
   ]
  },
  {
   "cell_type": "markdown",
   "metadata": {},
   "source": [
    "# NDArray 和 NumPy相互变换"
   ]
  },
  {
   "cell_type": "code",
   "execution_count": 91,
   "metadata": {},
   "outputs": [
    {
     "data": {
      "text/plain": [
       "\n",
       "[[1. 1. 1.]\n",
       " [1. 1. 1.]]\n",
       "<NDArray 2x3 @cpu(0)>"
      ]
     },
     "execution_count": 91,
     "metadata": {},
     "output_type": "execute_result"
    }
   ],
   "source": [
    "import numpy as np\n",
    "# numpy 转 ndarray\n",
    "p = np.ones((2,3))\n",
    "d = nd.array(p)\n",
    "d"
   ]
  },
  {
   "cell_type": "code",
   "execution_count": 92,
   "metadata": {},
   "outputs": [
    {
     "data": {
      "text/plain": [
       "array([[1., 1., 1.],\n",
       "       [1., 1., 1.]], dtype=float32)"
      ]
     },
     "execution_count": 92,
     "metadata": {},
     "output_type": "execute_result"
    }
   ],
   "source": [
    "# ndarray 转 numpy\n",
    "d.asnumpy()"
   ]
  },
  {
   "cell_type": "markdown",
   "metadata": {},
   "source": [
    "# 练习"
   ]
  },
  {
   "cell_type": "code",
   "execution_count": 95,
   "metadata": {},
   "outputs": [
    {
     "data": {
      "text/plain": [
       "\n",
       "[[1. 1. 1. 1.]\n",
       " [1. 1. 1. 1.]\n",
       " [1. 1. 1. 1.]]\n",
       "<NDArray 3x4 @cpu(0)>"
      ]
     },
     "execution_count": 95,
     "metadata": {},
     "output_type": "execute_result"
    }
   ],
   "source": [
    "# 对应元素，若X上的大于Y上的，则返回1,否则返回0,整个返回一个数组\n",
    "X > Y"
   ]
  },
  {
   "cell_type": "code",
   "execution_count": 98,
   "metadata": {},
   "outputs": [],
   "source": [
    "# 将广播机制中按元素运行的两个NDArray替换成其他形状，结果是否和预期一样？\n",
    "# 答：不一样，上面已经测试过了，如果不是单行或者单列的向量，补齐的时候会报错"
   ]
  },
  {
   "cell_type": "markdown",
   "metadata": {},
   "source": [
    "# 总结\n",
    "- nd.arange(n)：创建一个大小为n的一维数组\n",
    "- nd.reshape()：更改ndarray的形状，注意给的参数必须是tuple的类型\n",
    "- nd.array()：自定义一个矩阵\n",
    "- nd.zeros()：创建一个所有元素都为0的矩阵，参数必须是tuple类型\n",
    "- nd.concat(A,B,dim):拼接两个矩阵的方法，A和B分别表示需要拼接在一起的矩阵，dim表示是横着拼(dim=1)还是竖着拼(dim=0)\n",
    "- nd.random.normal(a,b,shape=(3,4))随机生成一个数组 ,它的每个元素都随机采样于均值为a、标准差为b的正态分布\n",
    "- 运算就+,-,×，/，注意都是对应元素之间的运算，还有指数运算，nd.exp(X);如果是想跟矩阵相乘一样，需要使用nd.dot(X,Y)\n",
    "- 广播机制：必须是行向量或者列向量才能进行补全\n",
    "- 截取某几行，或者某几列：\n",
    "    - 单纯截取某些行：X[start,end]，从start行到第end-1行\n",
    "    - 截取a到b-1行之间,c到d-1列的矩阵：X[a:b][:,[c:d]]\n",
    "- 运算是减少内存开销的方法：elemwise_add/div/...\n",
    "        - eg: elemwise_add(X, Y, out=Z) 将X + Y的值赋给Z\n",
    "\n",
    "- ndarray转numpy：asnumpy()方法\n",
    "    - eg: X(ndarray类型) X = X.asnumpy()\n",
    "- numpy转ndarray：array()方法\n",
    "    - eg: Y(numpy类型) Y = nd.array(Y)\n"
   ]
  }
 ],
 "metadata": {
  "kernelspec": {
   "display_name": "Python 3",
   "language": "python",
   "name": "python3"
  },
  "language_info": {
   "codemirror_mode": {
    "name": "ipython",
    "version": 3
   },
   "file_extension": ".py",
   "mimetype": "text/x-python",
   "name": "python",
   "nbconvert_exporter": "python",
   "pygments_lexer": "ipython3",
   "version": "3.6.10"
  }
 },
 "nbformat": 4,
 "nbformat_minor": 4
}
